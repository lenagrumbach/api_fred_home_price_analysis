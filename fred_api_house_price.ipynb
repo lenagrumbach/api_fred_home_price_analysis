{
 "cells": [
  {
   "cell_type": "code",
   "execution_count": 1,
   "metadata": {},
   "outputs": [],
   "source": [
    "import dotenv\n",
    "import email.message\n",
    "import logging\n",
    "import matplotlib.pyplot as plt\n",
    "import numpy as np\n",
    "import os\n",
    "import pandas as pd\n",
    "import plotly.express as px\n",
    "import plotly.graph_objects as go\n",
    "import pymysql\n",
    "import seaborn as sns\n",
    "import smtplib\n",
    "import sqlalchemy as db\n",
    "from datetime import date\n",
    "from datetime import datetime\n",
    "from email import encoders\n",
    "from email.mime.application import MIMEApplication\n",
    "from email.mime.base import MIMEBase\n",
    "from email.mime.multipart import MIMEMultipart\n",
    "from email.mime.text import MIMEText\n",
    "from fredapi import Fred\n",
    "from matplotlib import style\n",
    "from pretty_html_table import build_table\n",
    "from sklearn.preprocessing import MinMaxScaler\n",
    "plt.style.use('seaborn-darkgrid')\n",
    "dotenv.load_dotenv('senhas.env')\n",
    "pd.options.display.max_columns=100\n",
    "pd.options.display.float_format = '{:,.2f}'.format"
   ]
  },
  {
   "cell_type": "markdown",
   "metadata": {
    "id": "foPtuRNuxhiG"
   },
   "source": [
    "## API access and Importing Data"
   ]
  },
  {
   "cell_type": "code",
   "execution_count": 2,
   "metadata": {},
   "outputs": [],
   "source": [
    "fred_key = os.getenv('fred_key')\n",
    "fred = Fred(api_key=fred_key)"
   ]
  },
  {
   "cell_type": "code",
   "execution_count": 3,
   "metadata": {},
   "outputs": [],
   "source": [
    "def import_data_fred (code, name, start_date='2013-01-01', end_date=date.today()):\n",
    "    result = fred.get_series(series_id= code, observation_start= start_date, observation_end=end_date)\n",
    "    result = pd.DataFrame(result).reset_index().rename(columns={'index':'Date', 0: name})  \n",
    "    return result"
   ]
  },
  {
   "cell_type": "markdown",
   "metadata": {
    "id": "DmCANAVC4hJZ"
   },
   "source": [
    "Purchase Only House Price Index for the United States (HPIPONM226S)\n",
    "\n",
    "Units:  Index Jan 1991=100, Seasonally Adjusted\n",
    "\n",
    "Frequency:  Monthly\n",
    "\n",
    "The purchase-only index is based on more than 6 million repeat sales transactions on the same single-family properties."
   ]
  },
  {
   "cell_type": "code",
   "execution_count": 4,
   "metadata": {},
   "outputs": [
    {
     "data": {
      "text/html": [
       "<div>\n",
       "<style scoped>\n",
       "    .dataframe tbody tr th:only-of-type {\n",
       "        vertical-align: middle;\n",
       "    }\n",
       "\n",
       "    .dataframe tbody tr th {\n",
       "        vertical-align: top;\n",
       "    }\n",
       "\n",
       "    .dataframe thead th {\n",
       "        text-align: right;\n",
       "    }\n",
       "</style>\n",
       "<table border=\"1\" class=\"dataframe\">\n",
       "  <thead>\n",
       "    <tr style=\"text-align: right;\">\n",
       "      <th></th>\n",
       "      <th>Date</th>\n",
       "      <th>House_Price</th>\n",
       "    </tr>\n",
       "  </thead>\n",
       "  <tbody>\n",
       "    <tr>\n",
       "      <th>0</th>\n",
       "      <td>2013-01-01</td>\n",
       "      <td>189.47</td>\n",
       "    </tr>\n",
       "    <tr>\n",
       "      <th>1</th>\n",
       "      <td>2013-02-01</td>\n",
       "      <td>190.68</td>\n",
       "    </tr>\n",
       "    <tr>\n",
       "      <th>2</th>\n",
       "      <td>2013-03-01</td>\n",
       "      <td>192.60</td>\n",
       "    </tr>\n",
       "    <tr>\n",
       "      <th>3</th>\n",
       "      <td>2013-04-01</td>\n",
       "      <td>193.59</td>\n",
       "    </tr>\n",
       "    <tr>\n",
       "      <th>4</th>\n",
       "      <td>2013-05-01</td>\n",
       "      <td>195.12</td>\n",
       "    </tr>\n",
       "    <tr>\n",
       "      <th>...</th>\n",
       "      <td>...</td>\n",
       "      <td>...</td>\n",
       "    </tr>\n",
       "    <tr>\n",
       "      <th>112</th>\n",
       "      <td>2022-05-01</td>\n",
       "      <td>396.65</td>\n",
       "    </tr>\n",
       "    <tr>\n",
       "      <th>113</th>\n",
       "      <td>2022-06-01</td>\n",
       "      <td>397.19</td>\n",
       "    </tr>\n",
       "    <tr>\n",
       "      <th>114</th>\n",
       "      <td>2022-07-01</td>\n",
       "      <td>394.62</td>\n",
       "    </tr>\n",
       "    <tr>\n",
       "      <th>115</th>\n",
       "      <td>2022-08-01</td>\n",
       "      <td>392.05</td>\n",
       "    </tr>\n",
       "    <tr>\n",
       "      <th>116</th>\n",
       "      <td>2022-09-01</td>\n",
       "      <td>392.35</td>\n",
       "    </tr>\n",
       "  </tbody>\n",
       "</table>\n",
       "<p>117 rows × 2 columns</p>\n",
       "</div>"
      ],
      "text/plain": [
       "          Date  House_Price\n",
       "0   2013-01-01       189.47\n",
       "1   2013-02-01       190.68\n",
       "2   2013-03-01       192.60\n",
       "3   2013-04-01       193.59\n",
       "4   2013-05-01       195.12\n",
       "..         ...          ...\n",
       "112 2022-05-01       396.65\n",
       "113 2022-06-01       397.19\n",
       "114 2022-07-01       394.62\n",
       "115 2022-08-01       392.05\n",
       "116 2022-09-01       392.35\n",
       "\n",
       "[117 rows x 2 columns]"
      ]
     },
     "execution_count": 4,
     "metadata": {},
     "output_type": "execute_result"
    }
   ],
   "source": [
    "national_house_price = import_data_fred('HPIPONM226S', 'House_Price')\n",
    "national_house_price"
   ]
  },
  {
   "cell_type": "markdown",
   "metadata": {
    "id": "TgvHtq9Ny3qQ"
   },
   "source": [
    "S&P 500 (SP500)\n",
    "\n",
    "Units:  Index, Not Seasonally Adjusted\n",
    "\n",
    "Frequency:  Daily, Close\n",
    "\n",
    "The S&P 500 is regarded as a gauge of the large cap U.S. equities market. The index includes 500 leading companies in leading industries of the U.S. economy, which are publicly held on either the NYSE or NASDAQ, and covers 75% of U.S. equities. Since this is a price index and not a total return index, the S&P 500 index here does not contain dividends."
   ]
  },
  {
   "cell_type": "code",
   "execution_count": 5,
   "metadata": {},
   "outputs": [
    {
     "data": {
      "text/html": [
       "<div>\n",
       "<style scoped>\n",
       "    .dataframe tbody tr th:only-of-type {\n",
       "        vertical-align: middle;\n",
       "    }\n",
       "\n",
       "    .dataframe tbody tr th {\n",
       "        vertical-align: top;\n",
       "    }\n",
       "\n",
       "    .dataframe thead th {\n",
       "        text-align: right;\n",
       "    }\n",
       "</style>\n",
       "<table border=\"1\" class=\"dataframe\">\n",
       "  <thead>\n",
       "    <tr style=\"text-align: right;\">\n",
       "      <th></th>\n",
       "      <th>Date</th>\n",
       "      <th>SP500</th>\n",
       "    </tr>\n",
       "  </thead>\n",
       "  <tbody>\n",
       "    <tr>\n",
       "      <th>0</th>\n",
       "      <td>2013-01-01</td>\n",
       "      <td>NaN</td>\n",
       "    </tr>\n",
       "    <tr>\n",
       "      <th>1</th>\n",
       "      <td>2013-01-02</td>\n",
       "      <td>1,462.42</td>\n",
       "    </tr>\n",
       "    <tr>\n",
       "      <th>2</th>\n",
       "      <td>2013-01-03</td>\n",
       "      <td>1,459.37</td>\n",
       "    </tr>\n",
       "    <tr>\n",
       "      <th>3</th>\n",
       "      <td>2013-01-04</td>\n",
       "      <td>1,466.47</td>\n",
       "    </tr>\n",
       "    <tr>\n",
       "      <th>4</th>\n",
       "      <td>2013-01-07</td>\n",
       "      <td>1,461.89</td>\n",
       "    </tr>\n",
       "    <tr>\n",
       "      <th>...</th>\n",
       "      <td>...</td>\n",
       "      <td>...</td>\n",
       "    </tr>\n",
       "    <tr>\n",
       "      <th>2590</th>\n",
       "      <td>2022-12-06</td>\n",
       "      <td>3,941.26</td>\n",
       "    </tr>\n",
       "    <tr>\n",
       "      <th>2591</th>\n",
       "      <td>2022-12-07</td>\n",
       "      <td>3,933.92</td>\n",
       "    </tr>\n",
       "    <tr>\n",
       "      <th>2592</th>\n",
       "      <td>2022-12-08</td>\n",
       "      <td>3,963.51</td>\n",
       "    </tr>\n",
       "    <tr>\n",
       "      <th>2593</th>\n",
       "      <td>2022-12-09</td>\n",
       "      <td>3,934.38</td>\n",
       "    </tr>\n",
       "    <tr>\n",
       "      <th>2594</th>\n",
       "      <td>2022-12-12</td>\n",
       "      <td>3,990.56</td>\n",
       "    </tr>\n",
       "  </tbody>\n",
       "</table>\n",
       "<p>2595 rows × 2 columns</p>\n",
       "</div>"
      ],
      "text/plain": [
       "           Date    SP500\n",
       "0    2013-01-01      NaN\n",
       "1    2013-01-02 1,462.42\n",
       "2    2013-01-03 1,459.37\n",
       "3    2013-01-04 1,466.47\n",
       "4    2013-01-07 1,461.89\n",
       "...         ...      ...\n",
       "2590 2022-12-06 3,941.26\n",
       "2591 2022-12-07 3,933.92\n",
       "2592 2022-12-08 3,963.51\n",
       "2593 2022-12-09 3,934.38\n",
       "2594 2022-12-12 3,990.56\n",
       "\n",
       "[2595 rows x 2 columns]"
      ]
     },
     "execution_count": 5,
     "metadata": {},
     "output_type": "execute_result"
    }
   ],
   "source": [
    "sp500 = import_data_fred('SP500', 'SP500')\n",
    "sp500"
   ]
  },
  {
   "cell_type": "markdown",
   "metadata": {
    "id": "h4vAWBhGydc8"
   },
   "source": [
    "Unemployment Rate (UNRATE)\n",
    "\n",
    "Units:  Percent, Seasonally Adjusted\n",
    "\n",
    "Frequency:  Monthly\n",
    "\n",
    "The unemployment rate represents the number of unemployed as a percentage of the labor force. Labor force data are restricted to people 16 years of age and older, who currently reside in 1 of the 50 states or the District of Columbia, who do not reside in institutions (e.g., penal and mental facilities, homes for the aged), and who are not on active duty in the Armed Forces."
   ]
  },
  {
   "cell_type": "code",
   "execution_count": 6,
   "metadata": {},
   "outputs": [
    {
     "data": {
      "text/html": [
       "<div>\n",
       "<style scoped>\n",
       "    .dataframe tbody tr th:only-of-type {\n",
       "        vertical-align: middle;\n",
       "    }\n",
       "\n",
       "    .dataframe tbody tr th {\n",
       "        vertical-align: top;\n",
       "    }\n",
       "\n",
       "    .dataframe thead th {\n",
       "        text-align: right;\n",
       "    }\n",
       "</style>\n",
       "<table border=\"1\" class=\"dataframe\">\n",
       "  <thead>\n",
       "    <tr style=\"text-align: right;\">\n",
       "      <th></th>\n",
       "      <th>Date</th>\n",
       "      <th>Unemployment</th>\n",
       "    </tr>\n",
       "  </thead>\n",
       "  <tbody>\n",
       "    <tr>\n",
       "      <th>0</th>\n",
       "      <td>2013-01-01</td>\n",
       "      <td>8.00</td>\n",
       "    </tr>\n",
       "    <tr>\n",
       "      <th>1</th>\n",
       "      <td>2013-02-01</td>\n",
       "      <td>7.70</td>\n",
       "    </tr>\n",
       "    <tr>\n",
       "      <th>2</th>\n",
       "      <td>2013-03-01</td>\n",
       "      <td>7.50</td>\n",
       "    </tr>\n",
       "    <tr>\n",
       "      <th>3</th>\n",
       "      <td>2013-04-01</td>\n",
       "      <td>7.60</td>\n",
       "    </tr>\n",
       "    <tr>\n",
       "      <th>4</th>\n",
       "      <td>2013-05-01</td>\n",
       "      <td>7.50</td>\n",
       "    </tr>\n",
       "    <tr>\n",
       "      <th>...</th>\n",
       "      <td>...</td>\n",
       "      <td>...</td>\n",
       "    </tr>\n",
       "    <tr>\n",
       "      <th>114</th>\n",
       "      <td>2022-07-01</td>\n",
       "      <td>3.50</td>\n",
       "    </tr>\n",
       "    <tr>\n",
       "      <th>115</th>\n",
       "      <td>2022-08-01</td>\n",
       "      <td>3.70</td>\n",
       "    </tr>\n",
       "    <tr>\n",
       "      <th>116</th>\n",
       "      <td>2022-09-01</td>\n",
       "      <td>3.50</td>\n",
       "    </tr>\n",
       "    <tr>\n",
       "      <th>117</th>\n",
       "      <td>2022-10-01</td>\n",
       "      <td>3.70</td>\n",
       "    </tr>\n",
       "    <tr>\n",
       "      <th>118</th>\n",
       "      <td>2022-11-01</td>\n",
       "      <td>3.70</td>\n",
       "    </tr>\n",
       "  </tbody>\n",
       "</table>\n",
       "<p>119 rows × 2 columns</p>\n",
       "</div>"
      ],
      "text/plain": [
       "          Date  Unemployment\n",
       "0   2013-01-01          8.00\n",
       "1   2013-02-01          7.70\n",
       "2   2013-03-01          7.50\n",
       "3   2013-04-01          7.60\n",
       "4   2013-05-01          7.50\n",
       "..         ...           ...\n",
       "114 2022-07-01          3.50\n",
       "115 2022-08-01          3.70\n",
       "116 2022-09-01          3.50\n",
       "117 2022-10-01          3.70\n",
       "118 2022-11-01          3.70\n",
       "\n",
       "[119 rows x 2 columns]"
      ]
     },
     "execution_count": 6,
     "metadata": {},
     "output_type": "execute_result"
    }
   ],
   "source": [
    "unemployment = import_data_fred('UNRATE', 'Unemployment')\n",
    "unemployment"
   ]
  },
  {
   "cell_type": "markdown",
   "metadata": {
    "id": "_ogVDPiS6Wyz"
   },
   "source": [
    "Median Consumer Price Index (MEDCPIM158SFRBCLE)\n",
    "\n",
    "Units:  Percent Change at Annual Rate, Seasonally Adjusted\n",
    "\n",
    "Frequency:  Monthly\n",
    "\n",
    "Median Consumer Price Index (CPI) is a measure of core inflation calculated the Federal Reserve Bank of Cleveland and the Ohio State University. Median CPI was created as a different way to get a 'Core CPI' measure, or a better measure of underlying inflation trends. To calculate the Median CPI, the Cleveland Fed analyzes the median price change of the goods and services published by the BLS. The median price change is the price change that's right in the middle of the long list of all of the price changes. This series excludes 49.5% of the CPI components with the highest and lowest one-month price changes from each tail of the price-change distribution resulting in a Median CPI Inflation Estimate.\n",
    "\n",
    "According to research from the Cleveland Fed, the Median CPI provides a better signal of the inflation trend than either the all-items CPI or the CPI excluding food and energy. According to newer research done at the Cleveland Fed, the Median CPI is even better at PCE inflation in the near and longer term than the core PCE."
   ]
  },
  {
   "cell_type": "code",
   "execution_count": 7,
   "metadata": {},
   "outputs": [
    {
     "data": {
      "text/html": [
       "<div>\n",
       "<style scoped>\n",
       "    .dataframe tbody tr th:only-of-type {\n",
       "        vertical-align: middle;\n",
       "    }\n",
       "\n",
       "    .dataframe tbody tr th {\n",
       "        vertical-align: top;\n",
       "    }\n",
       "\n",
       "    .dataframe thead th {\n",
       "        text-align: right;\n",
       "    }\n",
       "</style>\n",
       "<table border=\"1\" class=\"dataframe\">\n",
       "  <thead>\n",
       "    <tr style=\"text-align: right;\">\n",
       "      <th></th>\n",
       "      <th>Date</th>\n",
       "      <th>Inflation</th>\n",
       "    </tr>\n",
       "  </thead>\n",
       "  <tbody>\n",
       "    <tr>\n",
       "      <th>0</th>\n",
       "      <td>2013-01-01</td>\n",
       "      <td>2.74</td>\n",
       "    </tr>\n",
       "    <tr>\n",
       "      <th>1</th>\n",
       "      <td>2013-02-01</td>\n",
       "      <td>2.45</td>\n",
       "    </tr>\n",
       "    <tr>\n",
       "      <th>2</th>\n",
       "      <td>2013-03-01</td>\n",
       "      <td>1.22</td>\n",
       "    </tr>\n",
       "    <tr>\n",
       "      <th>3</th>\n",
       "      <td>2013-04-01</td>\n",
       "      <td>2.09</td>\n",
       "    </tr>\n",
       "    <tr>\n",
       "      <th>4</th>\n",
       "      <td>2013-05-01</td>\n",
       "      <td>1.96</td>\n",
       "    </tr>\n",
       "    <tr>\n",
       "      <th>...</th>\n",
       "      <td>...</td>\n",
       "      <td>...</td>\n",
       "    </tr>\n",
       "    <tr>\n",
       "      <th>113</th>\n",
       "      <td>2022-06-01</td>\n",
       "      <td>9.13</td>\n",
       "    </tr>\n",
       "    <tr>\n",
       "      <th>114</th>\n",
       "      <td>2022-07-01</td>\n",
       "      <td>6.48</td>\n",
       "    </tr>\n",
       "    <tr>\n",
       "      <th>115</th>\n",
       "      <td>2022-08-01</td>\n",
       "      <td>9.22</td>\n",
       "    </tr>\n",
       "    <tr>\n",
       "      <th>116</th>\n",
       "      <td>2022-09-01</td>\n",
       "      <td>8.31</td>\n",
       "    </tr>\n",
       "    <tr>\n",
       "      <th>117</th>\n",
       "      <td>2022-10-01</td>\n",
       "      <td>6.53</td>\n",
       "    </tr>\n",
       "  </tbody>\n",
       "</table>\n",
       "<p>118 rows × 2 columns</p>\n",
       "</div>"
      ],
      "text/plain": [
       "          Date  Inflation\n",
       "0   2013-01-01       2.74\n",
       "1   2013-02-01       2.45\n",
       "2   2013-03-01       1.22\n",
       "3   2013-04-01       2.09\n",
       "4   2013-05-01       1.96\n",
       "..         ...        ...\n",
       "113 2022-06-01       9.13\n",
       "114 2022-07-01       6.48\n",
       "115 2022-08-01       9.22\n",
       "116 2022-09-01       8.31\n",
       "117 2022-10-01       6.53\n",
       "\n",
       "[118 rows x 2 columns]"
      ]
     },
     "execution_count": 7,
     "metadata": {},
     "output_type": "execute_result"
    }
   ],
   "source": [
    "inflation = import_data_fred('MEDCPIM158SFRBCLE','Inflation')\n",
    "inflation"
   ]
  },
  {
   "cell_type": "markdown",
   "metadata": {
    "id": "9IIEhi1r9cHd"
   },
   "source": [
    "Federal Funds Effective Rate (DFF)\n",
    "\n",
    "Units:  Percent, Not Seasonally Adjusted\n",
    "\n",
    "Frequency:  Daily, 7-Day\n",
    "\n",
    "The federal funds rate is the interest rate at which depository institutions trade federal funds (balances held at Federal Reserve Banks) with each other overnight. When a depository institution has surplus balances in its reserve account, it lends to other banks in need of larger balances. In simpler terms, a bank with excess cash, which is often referred to as liquidity, will lend to another bank that needs to quickly raise liquidity. (1) The rate that the borrowing institution pays to the lending institution is determined between the two banks; the weighted average rate for all of these types of negotiations is called the effective federal funds rate.(2) The effective federal funds rate is essentially determined by the market but is influenced by the Federal Reserve through open market operations to reach the federal funds rate target.(2)"
   ]
  },
  {
   "cell_type": "code",
   "execution_count": 8,
   "metadata": {},
   "outputs": [
    {
     "data": {
      "text/html": [
       "<div>\n",
       "<style scoped>\n",
       "    .dataframe tbody tr th:only-of-type {\n",
       "        vertical-align: middle;\n",
       "    }\n",
       "\n",
       "    .dataframe tbody tr th {\n",
       "        vertical-align: top;\n",
       "    }\n",
       "\n",
       "    .dataframe thead th {\n",
       "        text-align: right;\n",
       "    }\n",
       "</style>\n",
       "<table border=\"1\" class=\"dataframe\">\n",
       "  <thead>\n",
       "    <tr style=\"text-align: right;\">\n",
       "      <th></th>\n",
       "      <th>Date</th>\n",
       "      <th>FF_Rate</th>\n",
       "    </tr>\n",
       "  </thead>\n",
       "  <tbody>\n",
       "    <tr>\n",
       "      <th>0</th>\n",
       "      <td>2013-01-01</td>\n",
       "      <td>0.09</td>\n",
       "    </tr>\n",
       "    <tr>\n",
       "      <th>1</th>\n",
       "      <td>2013-01-02</td>\n",
       "      <td>0.17</td>\n",
       "    </tr>\n",
       "    <tr>\n",
       "      <th>2</th>\n",
       "      <td>2013-01-03</td>\n",
       "      <td>0.17</td>\n",
       "    </tr>\n",
       "    <tr>\n",
       "      <th>3</th>\n",
       "      <td>2013-01-04</td>\n",
       "      <td>0.16</td>\n",
       "    </tr>\n",
       "    <tr>\n",
       "      <th>4</th>\n",
       "      <td>2013-01-05</td>\n",
       "      <td>0.16</td>\n",
       "    </tr>\n",
       "    <tr>\n",
       "      <th>...</th>\n",
       "      <td>...</td>\n",
       "      <td>...</td>\n",
       "    </tr>\n",
       "    <tr>\n",
       "      <th>3625</th>\n",
       "      <td>2022-12-05</td>\n",
       "      <td>3.83</td>\n",
       "    </tr>\n",
       "    <tr>\n",
       "      <th>3626</th>\n",
       "      <td>2022-12-06</td>\n",
       "      <td>3.83</td>\n",
       "    </tr>\n",
       "    <tr>\n",
       "      <th>3627</th>\n",
       "      <td>2022-12-07</td>\n",
       "      <td>3.83</td>\n",
       "    </tr>\n",
       "    <tr>\n",
       "      <th>3628</th>\n",
       "      <td>2022-12-08</td>\n",
       "      <td>3.83</td>\n",
       "    </tr>\n",
       "    <tr>\n",
       "      <th>3629</th>\n",
       "      <td>2022-12-09</td>\n",
       "      <td>3.83</td>\n",
       "    </tr>\n",
       "  </tbody>\n",
       "</table>\n",
       "<p>3630 rows × 2 columns</p>\n",
       "</div>"
      ],
      "text/plain": [
       "           Date  FF_Rate\n",
       "0    2013-01-01     0.09\n",
       "1    2013-01-02     0.17\n",
       "2    2013-01-03     0.17\n",
       "3    2013-01-04     0.16\n",
       "4    2013-01-05     0.16\n",
       "...         ...      ...\n",
       "3625 2022-12-05     3.83\n",
       "3626 2022-12-06     3.83\n",
       "3627 2022-12-07     3.83\n",
       "3628 2022-12-08     3.83\n",
       "3629 2022-12-09     3.83\n",
       "\n",
       "[3630 rows x 2 columns]"
      ]
     },
     "execution_count": 8,
     "metadata": {},
     "output_type": "execute_result"
    }
   ],
   "source": [
    "federal_funds_rate = import_data_fred('DFF','FF_Rate')\n",
    "federal_funds_rate"
   ]
  },
  {
   "cell_type": "markdown",
   "metadata": {
    "id": "jzH5-JTx11Kb"
   },
   "source": [
    "## Data Cleaning and Preprocessing"
   ]
  },
  {
   "cell_type": "code",
   "execution_count": 9,
   "metadata": {},
   "outputs": [],
   "source": [
    "def day_to_month(serie_name):\n",
    "    convert = serie_name.groupby(serie_name['Date'].dt.strftime('%m %Y')).first().rename(columns={\"Date\":\"Month\"}).reset_index(drop=True)\n",
    "    convert['Date'] = pd.to_datetime(convert['Month'].dt.year.astype(str)+'/'+convert['Month'].dt.month.astype(str)+'/01')\n",
    "    convert = convert.drop(columns='Month').sort_values('Date').reset_index().drop(columns='index')\n",
    "    return convert"
   ]
  },
  {
   "cell_type": "code",
   "execution_count": 10,
   "metadata": {},
   "outputs": [],
   "source": [
    "sp500_monthly = day_to_month(sp500)"
   ]
  },
  {
   "cell_type": "code",
   "execution_count": 11,
   "metadata": {},
   "outputs": [],
   "source": [
    "ff_rate_monthly = day_to_month(federal_funds_rate)"
   ]
  },
  {
   "cell_type": "code",
   "execution_count": 12,
   "metadata": {
    "colab": {
     "base_uri": "https://localhost:8080/",
     "height": 206
    },
    "id": "MxXbnLjR2Ddw",
    "outputId": "7b48e84b-707a-4e5d-95df-72a45665014b"
   },
   "outputs": [
    {
     "data": {
      "text/html": [
       "<div>\n",
       "<style scoped>\n",
       "    .dataframe tbody tr th:only-of-type {\n",
       "        vertical-align: middle;\n",
       "    }\n",
       "\n",
       "    .dataframe tbody tr th {\n",
       "        vertical-align: top;\n",
       "    }\n",
       "\n",
       "    .dataframe thead th {\n",
       "        text-align: right;\n",
       "    }\n",
       "</style>\n",
       "<table border=\"1\" class=\"dataframe\">\n",
       "  <thead>\n",
       "    <tr style=\"text-align: right;\">\n",
       "      <th></th>\n",
       "      <th>Date</th>\n",
       "      <th>House_Price</th>\n",
       "      <th>SP500</th>\n",
       "      <th>Unemployment</th>\n",
       "      <th>Inflation</th>\n",
       "      <th>FF_Rate</th>\n",
       "    </tr>\n",
       "  </thead>\n",
       "  <tbody>\n",
       "    <tr>\n",
       "      <th>0</th>\n",
       "      <td>2013-01-01</td>\n",
       "      <td>189.47</td>\n",
       "      <td>1,462.42</td>\n",
       "      <td>8.00</td>\n",
       "      <td>2.74</td>\n",
       "      <td>0.09</td>\n",
       "    </tr>\n",
       "    <tr>\n",
       "      <th>1</th>\n",
       "      <td>2013-02-01</td>\n",
       "      <td>190.68</td>\n",
       "      <td>1,513.17</td>\n",
       "      <td>7.70</td>\n",
       "      <td>2.45</td>\n",
       "      <td>0.14</td>\n",
       "    </tr>\n",
       "    <tr>\n",
       "      <th>2</th>\n",
       "      <td>2013-03-01</td>\n",
       "      <td>192.60</td>\n",
       "      <td>1,518.20</td>\n",
       "      <td>7.50</td>\n",
       "      <td>1.22</td>\n",
       "      <td>0.14</td>\n",
       "    </tr>\n",
       "    <tr>\n",
       "      <th>3</th>\n",
       "      <td>2013-04-01</td>\n",
       "      <td>193.59</td>\n",
       "      <td>1,562.17</td>\n",
       "      <td>7.60</td>\n",
       "      <td>2.09</td>\n",
       "      <td>0.16</td>\n",
       "    </tr>\n",
       "    <tr>\n",
       "      <th>4</th>\n",
       "      <td>2013-05-01</td>\n",
       "      <td>195.12</td>\n",
       "      <td>1,582.70</td>\n",
       "      <td>7.50</td>\n",
       "      <td>1.96</td>\n",
       "      <td>0.14</td>\n",
       "    </tr>\n",
       "    <tr>\n",
       "      <th>...</th>\n",
       "      <td>...</td>\n",
       "      <td>...</td>\n",
       "      <td>...</td>\n",
       "      <td>...</td>\n",
       "      <td>...</td>\n",
       "      <td>...</td>\n",
       "    </tr>\n",
       "    <tr>\n",
       "      <th>112</th>\n",
       "      <td>2022-05-01</td>\n",
       "      <td>396.65</td>\n",
       "      <td>4,155.38</td>\n",
       "      <td>3.60</td>\n",
       "      <td>7.21</td>\n",
       "      <td>0.33</td>\n",
       "    </tr>\n",
       "    <tr>\n",
       "      <th>113</th>\n",
       "      <td>2022-06-01</td>\n",
       "      <td>397.19</td>\n",
       "      <td>4,101.23</td>\n",
       "      <td>3.60</td>\n",
       "      <td>9.13</td>\n",
       "      <td>0.83</td>\n",
       "    </tr>\n",
       "    <tr>\n",
       "      <th>114</th>\n",
       "      <td>2022-07-01</td>\n",
       "      <td>394.62</td>\n",
       "      <td>3,825.33</td>\n",
       "      <td>3.50</td>\n",
       "      <td>6.48</td>\n",
       "      <td>1.58</td>\n",
       "    </tr>\n",
       "    <tr>\n",
       "      <th>115</th>\n",
       "      <td>2022-08-01</td>\n",
       "      <td>392.05</td>\n",
       "      <td>4,118.63</td>\n",
       "      <td>3.70</td>\n",
       "      <td>9.22</td>\n",
       "      <td>2.33</td>\n",
       "    </tr>\n",
       "    <tr>\n",
       "      <th>116</th>\n",
       "      <td>2022-09-01</td>\n",
       "      <td>392.35</td>\n",
       "      <td>3,966.85</td>\n",
       "      <td>3.50</td>\n",
       "      <td>8.31</td>\n",
       "      <td>2.33</td>\n",
       "    </tr>\n",
       "  </tbody>\n",
       "</table>\n",
       "<p>117 rows × 6 columns</p>\n",
       "</div>"
      ],
      "text/plain": [
       "           Date  House_Price    SP500  Unemployment  Inflation  FF_Rate\n",
       "0    2013-01-01       189.47 1,462.42          8.00       2.74     0.09\n",
       "1    2013-02-01       190.68 1,513.17          7.70       2.45     0.14\n",
       "2    2013-03-01       192.60 1,518.20          7.50       1.22     0.14\n",
       "3    2013-04-01       193.59 1,562.17          7.60       2.09     0.16\n",
       "4    2013-05-01       195.12 1,582.70          7.50       1.96     0.14\n",
       "..          ...          ...      ...           ...        ...      ...\n",
       "112  2022-05-01       396.65 4,155.38          3.60       7.21     0.33\n",
       "113  2022-06-01       397.19 4,101.23          3.60       9.13     0.83\n",
       "114  2022-07-01       394.62 3,825.33          3.50       6.48     1.58\n",
       "115  2022-08-01       392.05 4,118.63          3.70       9.22     2.33\n",
       "116  2022-09-01       392.35 3,966.85          3.50       8.31     2.33\n",
       "\n",
       "[117 rows x 6 columns]"
      ]
     },
     "execution_count": 12,
     "metadata": {},
     "output_type": "execute_result"
    }
   ],
   "source": [
    "df_all_index = national_house_price.merge(sp500_monthly).merge(unemployment).merge(inflation).merge(ff_rate_monthly)\n",
    "df_all_index['Date'] = df_all_index['Date'].dt.date\n",
    "df_all_index"
   ]
  },
  {
   "cell_type": "code",
   "execution_count": 13,
   "metadata": {},
   "outputs": [],
   "source": [
    "pd.options.display.float_format = '{:,.2f}'.format\n",
    "\n",
    "nhp_last = national_house_price[-1:]\n",
    "sp_last = sp500[-1:].rename(columns={'Day':'Date'})\n",
    "unem_last = unemployment[-1:]\n",
    "inf_last = inflation[-1:]\n",
    "rate_last = federal_funds_rate[-1:].rename(columns={'Day':'Date'})"
   ]
  },
  {
   "cell_type": "code",
   "execution_count": 14,
   "metadata": {},
   "outputs": [],
   "source": [
    "last_update = pd.concat([nhp_last,sp_last,unem_last,inf_last,rate_last], axis=0).fillna(np.NAN).reset_index().drop(columns=['index'])\n",
    "last_update['Date'] = last_update['Date'].dt.date\n",
    "last_update = last_update.groupby('Date').max()"
   ]
  },
  {
   "cell_type": "code",
   "execution_count": 15,
   "metadata": {},
   "outputs": [
    {
     "data": {
      "text/plain": [
       "House_Price     1.00\n",
       "SP500           0.97\n",
       "Unemployment   -0.24\n",
       "Inflation       0.74\n",
       "FF_Rate         0.17\n",
       "Name: House_Price, dtype: float64"
      ]
     },
     "execution_count": 15,
     "metadata": {},
     "output_type": "execute_result"
    }
   ],
   "source": [
    "df_all_index.corr()['House_Price']"
   ]
  },
  {
   "cell_type": "markdown",
   "metadata": {},
   "source": [
    "## Normalizing Data"
   ]
  },
  {
   "cell_type": "code",
   "execution_count": 16,
   "metadata": {},
   "outputs": [],
   "source": [
    "pd.options.display.float_format = '{:,.5f}'.format\n",
    "def price_normalize (df_name, column):\n",
    "    convert = df_name.copy()\n",
    "    convert[column] = MinMaxScaler().fit_transform(np.array(convert[column]).reshape(-1,1))\n",
    "    return convert"
   ]
  },
  {
   "cell_type": "code",
   "execution_count": 17,
   "metadata": {},
   "outputs": [
    {
     "data": {
      "text/html": [
       "<div>\n",
       "<style scoped>\n",
       "    .dataframe tbody tr th:only-of-type {\n",
       "        vertical-align: middle;\n",
       "    }\n",
       "\n",
       "    .dataframe tbody tr th {\n",
       "        vertical-align: top;\n",
       "    }\n",
       "\n",
       "    .dataframe thead th {\n",
       "        text-align: right;\n",
       "    }\n",
       "</style>\n",
       "<table border=\"1\" class=\"dataframe\">\n",
       "  <thead>\n",
       "    <tr style=\"text-align: right;\">\n",
       "      <th></th>\n",
       "      <th>Date</th>\n",
       "      <th>House_Price</th>\n",
       "      <th>SP500</th>\n",
       "      <th>Unemployment</th>\n",
       "      <th>Inflation</th>\n",
       "      <th>FF_Rate</th>\n",
       "    </tr>\n",
       "  </thead>\n",
       "  <tbody>\n",
       "    <tr>\n",
       "      <th>0</th>\n",
       "      <td>2013-01-01</td>\n",
       "      <td>0.00000</td>\n",
       "      <td>0.00000</td>\n",
       "      <td>0.40179</td>\n",
       "      <td>0.23538</td>\n",
       "      <td>0.01058</td>\n",
       "    </tr>\n",
       "    <tr>\n",
       "      <th>1</th>\n",
       "      <td>2013-02-01</td>\n",
       "      <td>0.00583</td>\n",
       "      <td>0.01522</td>\n",
       "      <td>0.37500</td>\n",
       "      <td>0.20114</td>\n",
       "      <td>0.02381</td>\n",
       "    </tr>\n",
       "    <tr>\n",
       "      <th>2</th>\n",
       "      <td>2013-03-01</td>\n",
       "      <td>0.01507</td>\n",
       "      <td>0.01673</td>\n",
       "      <td>0.35714</td>\n",
       "      <td>0.05530</td>\n",
       "      <td>0.02381</td>\n",
       "    </tr>\n",
       "    <tr>\n",
       "      <th>3</th>\n",
       "      <td>2013-04-01</td>\n",
       "      <td>0.01983</td>\n",
       "      <td>0.02992</td>\n",
       "      <td>0.36607</td>\n",
       "      <td>0.15835</td>\n",
       "      <td>0.02910</td>\n",
       "    </tr>\n",
       "    <tr>\n",
       "      <th>4</th>\n",
       "      <td>2013-05-01</td>\n",
       "      <td>0.02720</td>\n",
       "      <td>0.03608</td>\n",
       "      <td>0.35714</td>\n",
       "      <td>0.14272</td>\n",
       "      <td>0.02381</td>\n",
       "    </tr>\n",
       "    <tr>\n",
       "      <th>...</th>\n",
       "      <td>...</td>\n",
       "      <td>...</td>\n",
       "      <td>...</td>\n",
       "      <td>...</td>\n",
       "      <td>...</td>\n",
       "      <td>...</td>\n",
       "    </tr>\n",
       "    <tr>\n",
       "      <th>112</th>\n",
       "      <td>2022-05-01</td>\n",
       "      <td>0.99740</td>\n",
       "      <td>0.80769</td>\n",
       "      <td>0.00893</td>\n",
       "      <td>0.76273</td>\n",
       "      <td>0.07407</td>\n",
       "    </tr>\n",
       "    <tr>\n",
       "      <th>113</th>\n",
       "      <td>2022-06-01</td>\n",
       "      <td>1.00000</td>\n",
       "      <td>0.79145</td>\n",
       "      <td>0.00893</td>\n",
       "      <td>0.98909</td>\n",
       "      <td>0.20635</td>\n",
       "    </tr>\n",
       "    <tr>\n",
       "      <th>114</th>\n",
       "      <td>2022-07-01</td>\n",
       "      <td>0.98763</td>\n",
       "      <td>0.70870</td>\n",
       "      <td>0.00000</td>\n",
       "      <td>0.67676</td>\n",
       "      <td>0.40476</td>\n",
       "    </tr>\n",
       "    <tr>\n",
       "      <th>115</th>\n",
       "      <td>2022-08-01</td>\n",
       "      <td>0.97526</td>\n",
       "      <td>0.79667</td>\n",
       "      <td>0.01786</td>\n",
       "      <td>1.00000</td>\n",
       "      <td>0.60317</td>\n",
       "    </tr>\n",
       "    <tr>\n",
       "      <th>116</th>\n",
       "      <td>2022-09-01</td>\n",
       "      <td>0.97670</td>\n",
       "      <td>0.75115</td>\n",
       "      <td>0.00000</td>\n",
       "      <td>0.89203</td>\n",
       "      <td>0.60317</td>\n",
       "    </tr>\n",
       "  </tbody>\n",
       "</table>\n",
       "<p>117 rows × 6 columns</p>\n",
       "</div>"
      ],
      "text/plain": [
       "          Date  House_Price   SP500  Unemployment  Inflation  FF_Rate\n",
       "0   2013-01-01      0.00000 0.00000       0.40179    0.23538  0.01058\n",
       "1   2013-02-01      0.00583 0.01522       0.37500    0.20114  0.02381\n",
       "2   2013-03-01      0.01507 0.01673       0.35714    0.05530  0.02381\n",
       "3   2013-04-01      0.01983 0.02992       0.36607    0.15835  0.02910\n",
       "4   2013-05-01      0.02720 0.03608       0.35714    0.14272  0.02381\n",
       "..         ...          ...     ...           ...        ...      ...\n",
       "112 2022-05-01      0.99740 0.80769       0.00893    0.76273  0.07407\n",
       "113 2022-06-01      1.00000 0.79145       0.00893    0.98909  0.20635\n",
       "114 2022-07-01      0.98763 0.70870       0.00000    0.67676  0.40476\n",
       "115 2022-08-01      0.97526 0.79667       0.01786    1.00000  0.60317\n",
       "116 2022-09-01      0.97670 0.75115       0.00000    0.89203  0.60317\n",
       "\n",
       "[117 rows x 6 columns]"
      ]
     },
     "execution_count": 17,
     "metadata": {},
     "output_type": "execute_result"
    }
   ],
   "source": [
    "housep_norm = price_normalize(national_house_price, 'House_Price')\n",
    "sp_norm = price_normalize(sp500_monthly, 'SP500')\n",
    "unemp_norm = price_normalize(unemployment, 'Unemployment')\n",
    "infl_norm = price_normalize(inflation, 'Inflation')\n",
    "rate_norm = price_normalize(ff_rate_monthly, 'FF_Rate')\n",
    "df_index_norm = (housep_norm.merge(sp_norm).merge(unemp_norm).merge(infl_norm).merge(rate_norm))\n",
    "df_index_norm"
   ]
  },
  {
   "cell_type": "code",
   "execution_count": 18,
   "metadata": {},
   "outputs": [],
   "source": [
    "pd.options.display.float_format = '{:,.2f}'.format"
   ]
  },
  {
   "cell_type": "markdown",
   "metadata": {},
   "source": [
    "## Graphics "
   ]
  },
  {
   "cell_type": "markdown",
   "metadata": {},
   "source": [
    "### house price index comparison with other indexes"
   ]
  },
  {
   "cell_type": "code",
   "execution_count": 19,
   "metadata": {},
   "outputs": [
    {
     "data": {
      "image/png": "[encoded data removed]",
      "text/plain": [
       "<Figure size 864x288 with 1 Axes>"
      ]
     },
     "metadata": {},
     "output_type": "display_data"
    }
   ],
   "source": [
    "fig = plt.figure(figsize=(12,4))\n",
    "ax = fig.add_axes([0,0,1,1])\n",
    "ax.plot(df_index_norm.set_index('Date')['House_Price'], color='navy', label='House_Price')\n",
    "ax.plot(df_index_norm.set_index('Date')['SP500'], color='green', label='S&P500')\n",
    "ax.set_title('House_Price x S&P500', fontsize=18)\n",
    "ax.set_xlabel(\"Year\", fontsize=16)\n",
    "ax.legend(fontsize=12);"
   ]
  },
  {
   "cell_type": "code",
   "execution_count": 20,
   "metadata": {
    "scrolled": false
   },
   "outputs": [
    {
     "data": {
      "image/png": "[encoded data removed]",
      "text/plain": [
       "<Figure size 864x288 with 1 Axes>"
      ]
     },
     "metadata": {},
     "output_type": "display_data"
    }
   ],
   "source": [
    "fig = plt.figure(figsize=(12,4))\n",
    "ax = fig.add_axes([0,0,1,1])\n",
    "ax.plot(df_index_norm.set_index('Date')['House_Price'], color='navy', label='House_Price')\n",
    "ax.plot(df_index_norm.set_index('Date')['Inflation'], color='purple', label='Inflation')\n",
    "ax.set_title('House_Price x Inflation', fontsize=18)\n",
    "ax.set_xlabel(\"Year\", fontsize=16)\n",
    "ax.legend(fontsize=12);"
   ]
  },
  {
   "cell_type": "code",
   "execution_count": 21,
   "metadata": {},
   "outputs": [
    {
     "data": {
      "image/png": "[encoded data removed]",
      "text/plain": [
       "<Figure size 864x288 with 1 Axes>"
      ]
     },
     "metadata": {},
     "output_type": "display_data"
    }
   ],
   "source": [
    "fig = plt.figure(figsize=(12,4))\n",
    "ax = fig.add_axes([0,0,1,1])\n",
    "ax.plot(df_index_norm.set_index('Date')['House_Price'], color='navy', label='House_Price')\n",
    "ax.plot(df_index_norm.set_index('Date')['Unemployment'], color='orange', label='Unemployment')\n",
    "ax.set_title('House_Price x Unemployment', fontsize=18)\n",
    "ax.set_xlabel(\"Year\", fontsize=16)\n",
    "ax.legend(fontsize=12);"
   ]
  },
  {
   "cell_type": "code",
   "execution_count": 22,
   "metadata": {},
   "outputs": [
    {
     "data": {
      "image/png": "[encoded data removed]",
      "text/plain": [
       "<Figure size 864x288 with 1 Axes>"
      ]
     },
     "metadata": {},
     "output_type": "display_data"
    }
   ],
   "source": [
    "fig = plt.figure(figsize=(12,4))\n",
    "ax = fig.add_axes([0,0,1,1])\n",
    "ax.plot(df_index_norm.set_index('Date')['House_Price'], color='navy', label='House_Price')\n",
    "ax.plot(df_index_norm.set_index('Date')['FF_Rate'], color='c', label='Federal Funds Effective Rate')\n",
    "ax.set_title('House_Price x Federal Funds Effective Rate', fontsize=18)\n",
    "ax.set_xlabel(\"Year\", fontsize=16)\n",
    "sns.color_palette()\n",
    "ax.legend(fontsize=12);"
   ]
  },
  {
   "cell_type": "markdown",
   "metadata": {},
   "source": [
    "## Exporting Data"
   ]
  },
  {
   "cell_type": "code",
   "execution_count": 23,
   "metadata": {},
   "outputs": [],
   "source": [
    "sql_password = os.getenv('sql_password')\n",
    "user = \"lenagrumbach\"\n",
    "password = sql_password\n",
    "url_banco = \"localhost\"\n",
    "nome_db = \"finance_api\"\n",
    "conn_str = f\"mysql+pymysql://{user}:{password}@{url_banco}/{nome_db}\"\n",
    "engine = db.create_engine(conn_str)"
   ]
  },
  {
   "cell_type": "code",
   "execution_count": 24,
   "metadata": {},
   "outputs": [
    {
     "data": {
      "text/plain": [
       "117"
      ]
     },
     "execution_count": 24,
     "metadata": {},
     "output_type": "execute_result"
    }
   ],
   "source": [
    "df_all_index.to_sql(name='df_all_index', con=engine,if_exists='replace', index=False)"
   ]
  },
  {
   "cell_type": "code",
   "execution_count": 25,
   "metadata": {},
   "outputs": [],
   "source": [
    "last_update.reset_index().to_excel('last_update.xlsx', index=False)"
   ]
  },
  {
   "cell_type": "markdown",
   "metadata": {},
   "source": [
    "## Sending emails"
   ]
  },
  {
   "cell_type": "code",
   "execution_count": 26,
   "metadata": {},
   "outputs": [],
   "source": [
    "# importing e-mail list to send\n",
    "\n",
    "stakeholder_list =  pd.read_excel('stakeholder_list.xlsx')\n",
    "active_emails = stakeholder_list.loc[stakeholder_list['Active']=='ok']"
   ]
  },
  {
   "cell_type": "code",
   "execution_count": 27,
   "metadata": {},
   "outputs": [],
   "source": [
    "table_email = build_table(last_update.reset_index(), color='blue_light', font_size='12px')"
   ]
  },
  {
   "cell_type": "code",
   "execution_count": 28,
   "metadata": {},
   "outputs": [],
   "source": [
    "logging.basicConfig(level = logging.INFO, filename= 'email_report.log', encoding='utf-8')"
   ]
  },
  {
   "cell_type": "code",
   "execution_count": 29,
   "metadata": {},
   "outputs": [],
   "source": [
    "def send_email(send_to, send_from='lena.dataanalyst@gmail.com', subject='Daily update'):\n",
    "    dotenv.load_dotenv('senhas.env')\n",
    "    gmail_password = os.getenv('gmail_password')\n",
    "\n",
    "    body_email = f\"\"\"\n",
    "    <p>Hello,\n",
    "\n",
    "    <p> Please see below for updated information.\n",
    "\n",
    "    {table_email}\n",
    "\n",
    "\n",
    "\n",
    "    <p>Kind regards,\n",
    "    <p>Lena Grumbach\n",
    "    </p>\n",
    "    \"\"\"\n",
    "    msg= MIMEMultipart()\n",
    "    msg['Subject'] = subject\n",
    "    msg['From'] = send_from\n",
    "    msg['To'] = send_to\n",
    "    msg.attach(MIMEText(body_email, 'html'))\n",
    "    \n",
    "    file_path = \"C:/Users/lenag/OneDrive/Desktop/IRONHACK/Projetos/api_fred_house_price_analysis/last_update.xlsx\"\n",
    "    attachment = open(file_path, 'rb')\n",
    "    att = MIMEBase('application','octet-stream')\n",
    "    att.set_payload(attachment.read())\n",
    "    encoders.encode_base64(att)\n",
    "    att.add_header('Content-Disposition', f\"attachment; filename=last_update.xlsx\")\n",
    "    attachment.close()\n",
    "    msg.attach(att)\n",
    "\n",
    "    host = 'smtp.gmail.com'\n",
    "    port = '587'\n",
    "    login = send_from\n",
    "    password = gmail_password\n",
    "    server = smtplib.SMTP(host,port)\n",
    "    server.ehlo()\n",
    "    server.starttls()\n",
    "    server.login(login,password)\n",
    "    server.sendmail(msg['From'], msg['To'], msg.as_string().encode('utf-8'))\n",
    "    server.quit()"
   ]
  },
  {
   "cell_type": "code",
   "execution_count": 30,
   "metadata": {},
   "outputs": [
    {
     "name": "stdout",
     "output_type": "stream",
     "text": [
      "done\n"
     ]
    }
   ],
   "source": [
    "# Send with log file\n",
    "\n",
    "send_list = list(active_emails['Contact']) \n",
    "confirm_list = []\n",
    "for i in send_list:\n",
    "    send_email(i)\n",
    "    confirm_list.append(f\"Sent to {i} at {datetime.today()}\")\n",
    "logging.info(confirm_list)\n",
    "print('done')"
   ]
  },
  {
   "cell_type": "code",
   "execution_count": null,
   "metadata": {},
   "outputs": [],
   "source": []
  }
 ],
 "metadata": {
  "colab": {
   "provenance": []
  },
  "kernelspec": {
   "display_name": "Python 3 (ipykernel)",
   "language": "python",
   "name": "python3"
  },
  "language_info": {
   "codemirror_mode": {
    "name": "ipython",
    "version": 3
   },
   "file_extension": ".py",
   "mimetype": "text/x-python",
   "name": "python",
   "nbconvert_exporter": "python",
   "pygments_lexer": "ipython3",
   "version": "3.9.12"
  },
  "toc": {
   "base_numbering": 1,
   "nav_menu": {},
   "number_sections": true,
   "sideBar": true,
   "skip_h1_title": false,
   "title_cell": "Table of Contents",
   "title_sidebar": "Contents",
   "toc_cell": false,
   "toc_position": {},
   "toc_section_display": true,
   "toc_window_display": false
  },
  "varInspector": {
   "cols": {
    "lenName": 16,
    "lenType": 16,
    "lenVar": 40
   },
   "kernels_config": {
    "python": {
     "delete_cmd_postfix": "",
     "delete_cmd_prefix": "del ",
     "library": "var_list.py",
     "varRefreshCmd": "print(var_dic_list())"
    },
    "r": {
     "delete_cmd_postfix": ") ",
     "delete_cmd_prefix": "rm(",
     "library": "var_list.r",
     "varRefreshCmd": "cat(var_dic_list()) "
    }
   },
   "types_to_exclude": [
    "module",
    "function",
    "builtin_function_or_method",
    "instance",
    "_Feature"
   ],
   "window_display": false
  }
 },
 "nbformat": 4,
 "nbformat_minor": 1
}

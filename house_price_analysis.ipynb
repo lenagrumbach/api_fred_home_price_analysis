{
 "cells": [
  {
   "cell_type": "code",
   "execution_count": 1,
   "metadata": {
    "id": "69I-wRn0jCiD"
   },
   "outputs": [],
   "source": [
    "# !pip install fredapi"
   ]
  },
  {
   "cell_type": "code",
   "execution_count": 2,
   "metadata": {
    "id": "N0GWLE7_iS6x"
   },
   "outputs": [],
   "source": [
    "import pandas as pd\n",
    "import numpy as np\n",
    "import matplotlib.pyplot as plt\n",
    "import plotly.express as px\n",
    "import seaborn as sns\n",
    "from datetime import date\n",
    "from sklearn.preprocessing import MinMaxScaler\n",
    "import dotenv\n",
    "import os\n",
    "\n",
    "plt.style.use('Solarize_Light2')\n",
    "pd.options.display.max_columns=30\n",
    "pd.options.display.max_rows=30\n",
    "\n",
    "from fredapi import Fred"
   ]
  },
  {
   "cell_type": "markdown",
   "metadata": {
    "id": "foPtuRNuxhiG"
   },
   "source": [
    "## API access and data import"
   ]
  },
  {
   "cell_type": "code",
   "execution_count": 3,
   "metadata": {},
   "outputs": [],
   "source": [
    "dotenv.load_dotenv('senhas.env')\n",
    "fred_key = os.getenv('fred_key')"
   ]
  },
  {
   "cell_type": "code",
   "execution_count": 4,
   "metadata": {
    "id": "M0RdwsQSixdP"
   },
   "outputs": [],
   "source": [
    "fred = Fred(api_key=fred_key)"
   ]
  },
  {
   "cell_type": "markdown",
   "metadata": {
    "id": "Yv7TPKUBy92K"
   },
   "source": [
    "Date period"
   ]
  },
  {
   "cell_type": "code",
   "execution_count": 5,
   "metadata": {
    "id": "H5oLPFqNhYVS"
   },
   "outputs": [],
   "source": [
    "start='2000-01-01'\n",
    "end= date.today()"
   ]
  },
  {
   "cell_type": "markdown",
   "metadata": {
    "id": "DmCANAVC4hJZ"
   },
   "source": [
    "All-Transactions House Price Index for the United States (USSTHPI)\n",
    "\n",
    "Units: Index 1980:Q1=100, Not Seasonally Adjusted\n",
    "\n",
    "Frequency: Quarterly\n",
    "\n",
    "Estimated using sales prices and appraisal data."
   ]
  },
  {
   "cell_type": "code",
   "execution_count": 6,
   "metadata": {
    "colab": {
     "base_uri": "https://localhost:8080/",
     "height": 423
    },
    "id": "z_9LTWsO4h_y",
    "outputId": "cc891178-a0ce-4aca-bb03-5b1403547a4a"
   },
   "outputs": [
    {
     "data": {
      "text/html": [
       "<div>\n",
       "<style scoped>\n",
       "    .dataframe tbody tr th:only-of-type {\n",
       "        vertical-align: middle;\n",
       "    }\n",
       "\n",
       "    .dataframe tbody tr th {\n",
       "        vertical-align: top;\n",
       "    }\n",
       "\n",
       "    .dataframe thead th {\n",
       "        text-align: right;\n",
       "    }\n",
       "</style>\n",
       "<table border=\"1\" class=\"dataframe\">\n",
       "  <thead>\n",
       "    <tr style=\"text-align: right;\">\n",
       "      <th></th>\n",
       "      <th>Date</th>\n",
       "      <th>House_Price_Index</th>\n",
       "    </tr>\n",
       "  </thead>\n",
       "  <tbody>\n",
       "    <tr>\n",
       "      <th>0</th>\n",
       "      <td>2000-01-01</td>\n",
       "      <td>230.18</td>\n",
       "    </tr>\n",
       "    <tr>\n",
       "      <th>1</th>\n",
       "      <td>2000-04-01</td>\n",
       "      <td>233.93</td>\n",
       "    </tr>\n",
       "    <tr>\n",
       "      <th>2</th>\n",
       "      <td>2000-07-01</td>\n",
       "      <td>238.19</td>\n",
       "    </tr>\n",
       "    <tr>\n",
       "      <th>3</th>\n",
       "      <td>2000-10-01</td>\n",
       "      <td>241.84</td>\n",
       "    </tr>\n",
       "    <tr>\n",
       "      <th>4</th>\n",
       "      <td>2001-01-01</td>\n",
       "      <td>247.82</td>\n",
       "    </tr>\n",
       "    <tr>\n",
       "      <th>...</th>\n",
       "      <td>...</td>\n",
       "      <td>...</td>\n",
       "    </tr>\n",
       "    <tr>\n",
       "      <th>86</th>\n",
       "      <td>2021-07-01</td>\n",
       "      <td>539.48</td>\n",
       "    </tr>\n",
       "    <tr>\n",
       "      <th>87</th>\n",
       "      <td>2021-10-01</td>\n",
       "      <td>558.11</td>\n",
       "    </tr>\n",
       "    <tr>\n",
       "      <th>88</th>\n",
       "      <td>2022-01-01</td>\n",
       "      <td>578.70</td>\n",
       "    </tr>\n",
       "    <tr>\n",
       "      <th>89</th>\n",
       "      <td>2022-04-01</td>\n",
       "      <td>618.37</td>\n",
       "    </tr>\n",
       "    <tr>\n",
       "      <th>90</th>\n",
       "      <td>2022-07-01</td>\n",
       "      <td>628.88</td>\n",
       "    </tr>\n",
       "  </tbody>\n",
       "</table>\n",
       "<p>91 rows × 2 columns</p>\n",
       "</div>"
      ],
      "text/plain": [
       "         Date  House_Price_Index\n",
       "0  2000-01-01             230.18\n",
       "1  2000-04-01             233.93\n",
       "2  2000-07-01             238.19\n",
       "3  2000-10-01             241.84\n",
       "4  2001-01-01             247.82\n",
       "..        ...                ...\n",
       "86 2021-07-01             539.48\n",
       "87 2021-10-01             558.11\n",
       "88 2022-01-01             578.70\n",
       "89 2022-04-01             618.37\n",
       "90 2022-07-01             628.88\n",
       "\n",
       "[91 rows x 2 columns]"
      ]
     },
     "execution_count": 6,
     "metadata": {},
     "output_type": "execute_result"
    }
   ],
   "source": [
    "national_house_price = fred.get_series(series_id= 'USSTHPI', observation_start= start, observation_end=end)\n",
    "national_house_price = pd.DataFrame(national_house_price).reset_index().rename(columns={'index':'Date', 0:'House_Price_Index'})\n",
    "national_house_price"
   ]
  },
  {
   "cell_type": "code",
   "execution_count": 7,
   "metadata": {
    "colab": {
     "base_uri": "https://localhost:8080/"
    },
    "id": "gkPoBS0T4iCw",
    "outputId": "91507df7-56c0-49c4-f903-babf881abd74"
   },
   "outputs": [
    {
     "name": "stdout",
     "output_type": "stream",
     "text": [
      "<class 'pandas.core.frame.DataFrame'>\n",
      "RangeIndex: 91 entries, 0 to 90\n",
      "Data columns (total 2 columns):\n",
      " #   Column             Non-Null Count  Dtype         \n",
      "---  ------             --------------  -----         \n",
      " 0   Date               91 non-null     datetime64[ns]\n",
      " 1   House_Price_Index  91 non-null     float64       \n",
      "dtypes: datetime64[ns](1), float64(1)\n",
      "memory usage: 1.5 KB\n"
     ]
    }
   ],
   "source": [
    "national_house_price.info()"
   ]
  },
  {
   "cell_type": "markdown",
   "metadata": {
    "id": "TgvHtq9Ny3qQ"
   },
   "source": [
    "S&P 500 (SP500)\n",
    "\n",
    "Units:  Index, Not Seasonally Adjusted\n",
    "\n",
    "Frequency:  Daily, Close\n",
    "\n",
    "The S&P 500 is regarded as a gauge of the large cap U.S. equities market. The index includes 500 leading companies in leading industries of the U.S. economy, which are publicly held on either the NYSE or NASDAQ, and covers 75% of U.S. equities. Since this is a price index and not a total return index, the S&P 500 index here does not contain dividends."
   ]
  },
  {
   "cell_type": "code",
   "execution_count": 8,
   "metadata": {
    "colab": {
     "base_uri": "https://localhost:8080/",
     "height": 423
    },
    "id": "cWtUUl7QWhvV",
    "outputId": "08fa1c70-c6a2-4655-8689-8409a63e8143"
   },
   "outputs": [
    {
     "data": {
      "text/html": [
       "<div>\n",
       "<style scoped>\n",
       "    .dataframe tbody tr th:only-of-type {\n",
       "        vertical-align: middle;\n",
       "    }\n",
       "\n",
       "    .dataframe tbody tr th {\n",
       "        vertical-align: top;\n",
       "    }\n",
       "\n",
       "    .dataframe thead th {\n",
       "        text-align: right;\n",
       "    }\n",
       "</style>\n",
       "<table border=\"1\" class=\"dataframe\">\n",
       "  <thead>\n",
       "    <tr style=\"text-align: right;\">\n",
       "      <th></th>\n",
       "      <th>Day</th>\n",
       "      <th>SP500</th>\n",
       "    </tr>\n",
       "  </thead>\n",
       "  <tbody>\n",
       "    <tr>\n",
       "      <th>0</th>\n",
       "      <td>2012-12-03</td>\n",
       "      <td>1409.46</td>\n",
       "    </tr>\n",
       "    <tr>\n",
       "      <th>1</th>\n",
       "      <td>2012-12-04</td>\n",
       "      <td>1407.05</td>\n",
       "    </tr>\n",
       "    <tr>\n",
       "      <th>2</th>\n",
       "      <td>2012-12-05</td>\n",
       "      <td>1409.28</td>\n",
       "    </tr>\n",
       "    <tr>\n",
       "      <th>3</th>\n",
       "      <td>2012-12-06</td>\n",
       "      <td>1413.94</td>\n",
       "    </tr>\n",
       "    <tr>\n",
       "      <th>4</th>\n",
       "      <td>2012-12-07</td>\n",
       "      <td>1418.07</td>\n",
       "    </tr>\n",
       "    <tr>\n",
       "      <th>...</th>\n",
       "      <td>...</td>\n",
       "      <td>...</td>\n",
       "    </tr>\n",
       "    <tr>\n",
       "      <th>2604</th>\n",
       "      <td>2022-11-25</td>\n",
       "      <td>4026.12</td>\n",
       "    </tr>\n",
       "    <tr>\n",
       "      <th>2605</th>\n",
       "      <td>2022-11-28</td>\n",
       "      <td>3963.94</td>\n",
       "    </tr>\n",
       "    <tr>\n",
       "      <th>2606</th>\n",
       "      <td>2022-11-29</td>\n",
       "      <td>3957.63</td>\n",
       "    </tr>\n",
       "    <tr>\n",
       "      <th>2607</th>\n",
       "      <td>2022-11-30</td>\n",
       "      <td>4080.11</td>\n",
       "    </tr>\n",
       "    <tr>\n",
       "      <th>2608</th>\n",
       "      <td>2022-12-01</td>\n",
       "      <td>4076.57</td>\n",
       "    </tr>\n",
       "  </tbody>\n",
       "</table>\n",
       "<p>2609 rows × 2 columns</p>\n",
       "</div>"
      ],
      "text/plain": [
       "            Day    SP500\n",
       "0    2012-12-03  1409.46\n",
       "1    2012-12-04  1407.05\n",
       "2    2012-12-05  1409.28\n",
       "3    2012-12-06  1413.94\n",
       "4    2012-12-07  1418.07\n",
       "...         ...      ...\n",
       "2604 2022-11-25  4026.12\n",
       "2605 2022-11-28  3963.94\n",
       "2606 2022-11-29  3957.63\n",
       "2607 2022-11-30  4080.11\n",
       "2608 2022-12-01  4076.57\n",
       "\n",
       "[2609 rows x 2 columns]"
      ]
     },
     "execution_count": 8,
     "metadata": {},
     "output_type": "execute_result"
    }
   ],
   "source": [
    "sp500 = fred.get_series(series_id= 'SP500',observation_start= '2000-01-01', observation_end='2022-12-01')\n",
    "sp500 = pd.DataFrame(sp500).reset_index().rename(columns={'index':'Day', 0:'SP500'})\n",
    "sp500"
   ]
  },
  {
   "cell_type": "code",
   "execution_count": 9,
   "metadata": {
    "colab": {
     "base_uri": "https://localhost:8080/"
    },
    "id": "_efB6AO3wTEJ",
    "outputId": "24b8e2dc-022d-44f0-dc9b-3785cfc5cb56"
   },
   "outputs": [
    {
     "name": "stdout",
     "output_type": "stream",
     "text": [
      "<class 'pandas.core.frame.DataFrame'>\n",
      "RangeIndex: 2609 entries, 0 to 2608\n",
      "Data columns (total 2 columns):\n",
      " #   Column  Non-Null Count  Dtype         \n",
      "---  ------  --------------  -----         \n",
      " 0   Day     2609 non-null   datetime64[ns]\n",
      " 1   SP500   2518 non-null   float64       \n",
      "dtypes: datetime64[ns](1), float64(1)\n",
      "memory usage: 40.9 KB\n"
     ]
    }
   ],
   "source": [
    "sp500.info()"
   ]
  },
  {
   "cell_type": "markdown",
   "metadata": {
    "id": "h4vAWBhGydc8"
   },
   "source": [
    "Unemployment Rate (UNRATE)\n",
    "\n",
    "Units:  Percent, Seasonally Adjusted\n",
    "\n",
    "Frequency:  Monthly\n",
    "\n",
    "The unemployment rate represents the number of unemployed as a percentage of the labor force. Labor force data are restricted to people 16 years of age and older, who currently reside in 1 of the 50 states or the District of Columbia, who do not reside in institutions (e.g., penal and mental facilities, homes for the aged), and who are not on active duty in the Armed Forces."
   ]
  },
  {
   "cell_type": "code",
   "execution_count": 10,
   "metadata": {
    "colab": {
     "base_uri": "https://localhost:8080/",
     "height": 423
    },
    "id": "h9Itg_9kXsIf",
    "outputId": "560d66bd-ab1a-4888-bcaa-0ec12f3369c6"
   },
   "outputs": [
    {
     "data": {
      "text/html": [
       "<div>\n",
       "<style scoped>\n",
       "    .dataframe tbody tr th:only-of-type {\n",
       "        vertical-align: middle;\n",
       "    }\n",
       "\n",
       "    .dataframe tbody tr th {\n",
       "        vertical-align: top;\n",
       "    }\n",
       "\n",
       "    .dataframe thead th {\n",
       "        text-align: right;\n",
       "    }\n",
       "</style>\n",
       "<table border=\"1\" class=\"dataframe\">\n",
       "  <thead>\n",
       "    <tr style=\"text-align: right;\">\n",
       "      <th></th>\n",
       "      <th>Date</th>\n",
       "      <th>Unemployment</th>\n",
       "    </tr>\n",
       "  </thead>\n",
       "  <tbody>\n",
       "    <tr>\n",
       "      <th>0</th>\n",
       "      <td>2000-01-01</td>\n",
       "      <td>4.0</td>\n",
       "    </tr>\n",
       "    <tr>\n",
       "      <th>1</th>\n",
       "      <td>2000-02-01</td>\n",
       "      <td>4.1</td>\n",
       "    </tr>\n",
       "    <tr>\n",
       "      <th>2</th>\n",
       "      <td>2000-03-01</td>\n",
       "      <td>4.0</td>\n",
       "    </tr>\n",
       "    <tr>\n",
       "      <th>3</th>\n",
       "      <td>2000-04-01</td>\n",
       "      <td>3.8</td>\n",
       "    </tr>\n",
       "    <tr>\n",
       "      <th>4</th>\n",
       "      <td>2000-05-01</td>\n",
       "      <td>4.0</td>\n",
       "    </tr>\n",
       "    <tr>\n",
       "      <th>...</th>\n",
       "      <td>...</td>\n",
       "      <td>...</td>\n",
       "    </tr>\n",
       "    <tr>\n",
       "      <th>270</th>\n",
       "      <td>2022-07-01</td>\n",
       "      <td>3.5</td>\n",
       "    </tr>\n",
       "    <tr>\n",
       "      <th>271</th>\n",
       "      <td>2022-08-01</td>\n",
       "      <td>3.7</td>\n",
       "    </tr>\n",
       "    <tr>\n",
       "      <th>272</th>\n",
       "      <td>2022-09-01</td>\n",
       "      <td>3.5</td>\n",
       "    </tr>\n",
       "    <tr>\n",
       "      <th>273</th>\n",
       "      <td>2022-10-01</td>\n",
       "      <td>3.7</td>\n",
       "    </tr>\n",
       "    <tr>\n",
       "      <th>274</th>\n",
       "      <td>2022-11-01</td>\n",
       "      <td>3.7</td>\n",
       "    </tr>\n",
       "  </tbody>\n",
       "</table>\n",
       "<p>275 rows × 2 columns</p>\n",
       "</div>"
      ],
      "text/plain": [
       "          Date  Unemployment\n",
       "0   2000-01-01           4.0\n",
       "1   2000-02-01           4.1\n",
       "2   2000-03-01           4.0\n",
       "3   2000-04-01           3.8\n",
       "4   2000-05-01           4.0\n",
       "..         ...           ...\n",
       "270 2022-07-01           3.5\n",
       "271 2022-08-01           3.7\n",
       "272 2022-09-01           3.5\n",
       "273 2022-10-01           3.7\n",
       "274 2022-11-01           3.7\n",
       "\n",
       "[275 rows x 2 columns]"
      ]
     },
     "execution_count": 10,
     "metadata": {},
     "output_type": "execute_result"
    }
   ],
   "source": [
    "unemployment = fred.get_series(series_id= 'UNRATE', observation_start= start, observation_end=end)\n",
    "unemployment = pd.DataFrame(unemployment).reset_index().rename(columns={'index':'Date', 0:'Unemployment'})\n",
    "unemployment"
   ]
  },
  {
   "cell_type": "code",
   "execution_count": 11,
   "metadata": {
    "colab": {
     "base_uri": "https://localhost:8080/"
    },
    "id": "BuLH8cl-lCYN",
    "outputId": "0d4a0e58-cf36-4b8b-ee74-aac4dad133ce"
   },
   "outputs": [
    {
     "name": "stdout",
     "output_type": "stream",
     "text": [
      "<class 'pandas.core.frame.DataFrame'>\n",
      "RangeIndex: 275 entries, 0 to 274\n",
      "Data columns (total 2 columns):\n",
      " #   Column        Non-Null Count  Dtype         \n",
      "---  ------        --------------  -----         \n",
      " 0   Date          275 non-null    datetime64[ns]\n",
      " 1   Unemployment  275 non-null    float64       \n",
      "dtypes: datetime64[ns](1), float64(1)\n",
      "memory usage: 4.4 KB\n"
     ]
    }
   ],
   "source": [
    "unemployment.info()"
   ]
  },
  {
   "cell_type": "markdown",
   "metadata": {
    "id": "_ogVDPiS6Wyz"
   },
   "source": [
    "Median Consumer Price Index (MEDCPIM158SFRBCLE)\n",
    "\n",
    "Units:  Percent Change at Annual Rate, Seasonally Adjusted\n",
    "\n",
    "Frequency:  Monthly\n",
    "\n",
    "Median Consumer Price Index (CPI) is a measure of core inflation calculated the Federal Reserve Bank of Cleveland and the Ohio State University. Median CPI was created as a different way to get a 'Core CPI' measure, or a better measure of underlying inflation trends. To calculate the Median CPI, the Cleveland Fed analyzes the median price change of the goods and services published by the BLS. The median price change is the price change that's right in the middle of the long list of all of the price changes. This series excludes 49.5% of the CPI components with the highest and lowest one-month price changes from each tail of the price-change distribution resulting in a Median CPI Inflation Estimate.\n",
    "\n",
    "According to research from the Cleveland Fed, the Median CPI provides a better signal of the inflation trend than either the all-items CPI or the CPI excluding food and energy. According to newer research done at the Cleveland Fed, the Median CPI is even better at PCE inflation in the near and longer term than the core PCE."
   ]
  },
  {
   "cell_type": "code",
   "execution_count": 12,
   "metadata": {
    "colab": {
     "base_uri": "https://localhost:8080/",
     "height": 423
    },
    "id": "PA2mEEZ7SZY5",
    "outputId": "c0bf9e53-d210-48fd-c0ad-94f6f5201984"
   },
   "outputs": [
    {
     "data": {
      "text/html": [
       "<div>\n",
       "<style scoped>\n",
       "    .dataframe tbody tr th:only-of-type {\n",
       "        vertical-align: middle;\n",
       "    }\n",
       "\n",
       "    .dataframe tbody tr th {\n",
       "        vertical-align: top;\n",
       "    }\n",
       "\n",
       "    .dataframe thead th {\n",
       "        text-align: right;\n",
       "    }\n",
       "</style>\n",
       "<table border=\"1\" class=\"dataframe\">\n",
       "  <thead>\n",
       "    <tr style=\"text-align: right;\">\n",
       "      <th></th>\n",
       "      <th>Date</th>\n",
       "      <th>Inflation</th>\n",
       "    </tr>\n",
       "  </thead>\n",
       "  <tbody>\n",
       "    <tr>\n",
       "      <th>0</th>\n",
       "      <td>2000-01-01</td>\n",
       "      <td>3.851771</td>\n",
       "    </tr>\n",
       "    <tr>\n",
       "      <th>1</th>\n",
       "      <td>2000-02-01</td>\n",
       "      <td>2.785584</td>\n",
       "    </tr>\n",
       "    <tr>\n",
       "      <th>2</th>\n",
       "      <td>2000-03-01</td>\n",
       "      <td>3.416809</td>\n",
       "    </tr>\n",
       "    <tr>\n",
       "      <th>3</th>\n",
       "      <td>2000-04-01</td>\n",
       "      <td>2.276901</td>\n",
       "    </tr>\n",
       "    <tr>\n",
       "      <th>4</th>\n",
       "      <td>2000-05-01</td>\n",
       "      <td>2.853534</td>\n",
       "    </tr>\n",
       "    <tr>\n",
       "      <th>...</th>\n",
       "      <td>...</td>\n",
       "      <td>...</td>\n",
       "    </tr>\n",
       "    <tr>\n",
       "      <th>269</th>\n",
       "      <td>2022-06-01</td>\n",
       "      <td>9.130538</td>\n",
       "    </tr>\n",
       "    <tr>\n",
       "      <th>270</th>\n",
       "      <td>2022-07-01</td>\n",
       "      <td>6.483074</td>\n",
       "    </tr>\n",
       "    <tr>\n",
       "      <th>271</th>\n",
       "      <td>2022-08-01</td>\n",
       "      <td>9.222973</td>\n",
       "    </tr>\n",
       "    <tr>\n",
       "      <th>272</th>\n",
       "      <td>2022-09-01</td>\n",
       "      <td>8.307776</td>\n",
       "    </tr>\n",
       "    <tr>\n",
       "      <th>273</th>\n",
       "      <td>2022-10-01</td>\n",
       "      <td>6.532852</td>\n",
       "    </tr>\n",
       "  </tbody>\n",
       "</table>\n",
       "<p>274 rows × 2 columns</p>\n",
       "</div>"
      ],
      "text/plain": [
       "          Date  Inflation\n",
       "0   2000-01-01   3.851771\n",
       "1   2000-02-01   2.785584\n",
       "2   2000-03-01   3.416809\n",
       "3   2000-04-01   2.276901\n",
       "4   2000-05-01   2.853534\n",
       "..         ...        ...\n",
       "269 2022-06-01   9.130538\n",
       "270 2022-07-01   6.483074\n",
       "271 2022-08-01   9.222973\n",
       "272 2022-09-01   8.307776\n",
       "273 2022-10-01   6.532852\n",
       "\n",
       "[274 rows x 2 columns]"
      ]
     },
     "execution_count": 12,
     "metadata": {},
     "output_type": "execute_result"
    }
   ],
   "source": [
    "inflation = fred.get_series(series_id= 'MEDCPIM158SFRBCLE', observation_start= start, observation_end=end)\n",
    "inflation = pd.DataFrame(inflation).reset_index().rename(columns={'index':'Date', 0:'Inflation'})\n",
    "inflation"
   ]
  },
  {
   "cell_type": "code",
   "execution_count": 13,
   "metadata": {
    "colab": {
     "base_uri": "https://localhost:8080/"
    },
    "id": "YSgoDoyux5CU",
    "outputId": "eee5aab4-fc5e-412d-e7ea-183572294b9c"
   },
   "outputs": [
    {
     "name": "stdout",
     "output_type": "stream",
     "text": [
      "<class 'pandas.core.frame.DataFrame'>\n",
      "RangeIndex: 274 entries, 0 to 273\n",
      "Data columns (total 2 columns):\n",
      " #   Column     Non-Null Count  Dtype         \n",
      "---  ------     --------------  -----         \n",
      " 0   Date       274 non-null    datetime64[ns]\n",
      " 1   Inflation  274 non-null    float64       \n",
      "dtypes: datetime64[ns](1), float64(1)\n",
      "memory usage: 4.4 KB\n"
     ]
    }
   ],
   "source": [
    "inflation.info()"
   ]
  },
  {
   "cell_type": "markdown",
   "metadata": {
    "id": "9IIEhi1r9cHd"
   },
   "source": [
    "Federal Funds Effective Rate (DFF)\n",
    "\n",
    "Units:  Percent, Not Seasonally Adjusted\n",
    "\n",
    "Frequency:  Daily, 7-Day\n",
    "\n",
    "The federal funds rate is the interest rate at which depository institutions trade federal funds (balances held at Federal Reserve Banks) with each other overnight. When a depository institution has surplus balances in its reserve account, it lends to other banks in need of larger balances. In simpler terms, a bank with excess cash, which is often referred to as liquidity, will lend to another bank that needs to quickly raise liquidity. (1) The rate that the borrowing institution pays to the lending institution is determined between the two banks; the weighted average rate for all of these types of negotiations is called the effective federal funds rate.(2) The effective federal funds rate is essentially determined by the market but is influenced by the Federal Reserve through open market operations to reach the federal funds rate target.(2)"
   ]
  },
  {
   "cell_type": "code",
   "execution_count": 14,
   "metadata": {
    "colab": {
     "base_uri": "https://localhost:8080/",
     "height": 423
    },
    "id": "xAMFOavfml0j",
    "outputId": "163d69cb-28c2-4493-941a-d22d6ba3bc6b"
   },
   "outputs": [
    {
     "data": {
      "text/html": [
       "<div>\n",
       "<style scoped>\n",
       "    .dataframe tbody tr th:only-of-type {\n",
       "        vertical-align: middle;\n",
       "    }\n",
       "\n",
       "    .dataframe tbody tr th {\n",
       "        vertical-align: top;\n",
       "    }\n",
       "\n",
       "    .dataframe thead th {\n",
       "        text-align: right;\n",
       "    }\n",
       "</style>\n",
       "<table border=\"1\" class=\"dataframe\">\n",
       "  <thead>\n",
       "    <tr style=\"text-align: right;\">\n",
       "      <th></th>\n",
       "      <th>Date</th>\n",
       "      <th>FF_Rate</th>\n",
       "    </tr>\n",
       "  </thead>\n",
       "  <tbody>\n",
       "    <tr>\n",
       "      <th>0</th>\n",
       "      <td>2000-01-01</td>\n",
       "      <td>3.99</td>\n",
       "    </tr>\n",
       "    <tr>\n",
       "      <th>1</th>\n",
       "      <td>2000-01-02</td>\n",
       "      <td>3.99</td>\n",
       "    </tr>\n",
       "    <tr>\n",
       "      <th>2</th>\n",
       "      <td>2000-01-03</td>\n",
       "      <td>5.43</td>\n",
       "    </tr>\n",
       "    <tr>\n",
       "      <th>3</th>\n",
       "      <td>2000-01-04</td>\n",
       "      <td>5.38</td>\n",
       "    </tr>\n",
       "    <tr>\n",
       "      <th>4</th>\n",
       "      <td>2000-01-05</td>\n",
       "      <td>5.41</td>\n",
       "    </tr>\n",
       "    <tr>\n",
       "      <th>...</th>\n",
       "      <td>...</td>\n",
       "      <td>...</td>\n",
       "    </tr>\n",
       "    <tr>\n",
       "      <th>8366</th>\n",
       "      <td>2022-11-27</td>\n",
       "      <td>3.83</td>\n",
       "    </tr>\n",
       "    <tr>\n",
       "      <th>8367</th>\n",
       "      <td>2022-11-28</td>\n",
       "      <td>3.83</td>\n",
       "    </tr>\n",
       "    <tr>\n",
       "      <th>8368</th>\n",
       "      <td>2022-11-29</td>\n",
       "      <td>3.83</td>\n",
       "    </tr>\n",
       "    <tr>\n",
       "      <th>8369</th>\n",
       "      <td>2022-11-30</td>\n",
       "      <td>3.83</td>\n",
       "    </tr>\n",
       "    <tr>\n",
       "      <th>8370</th>\n",
       "      <td>2022-12-01</td>\n",
       "      <td>3.83</td>\n",
       "    </tr>\n",
       "  </tbody>\n",
       "</table>\n",
       "<p>8371 rows × 2 columns</p>\n",
       "</div>"
      ],
      "text/plain": [
       "           Date  FF_Rate\n",
       "0    2000-01-01     3.99\n",
       "1    2000-01-02     3.99\n",
       "2    2000-01-03     5.43\n",
       "3    2000-01-04     5.38\n",
       "4    2000-01-05     5.41\n",
       "...         ...      ...\n",
       "8366 2022-11-27     3.83\n",
       "8367 2022-11-28     3.83\n",
       "8368 2022-11-29     3.83\n",
       "8369 2022-11-30     3.83\n",
       "8370 2022-12-01     3.83\n",
       "\n",
       "[8371 rows x 2 columns]"
      ]
     },
     "execution_count": 14,
     "metadata": {},
     "output_type": "execute_result"
    }
   ],
   "source": [
    "federal_funds_rate = fred.get_series(series_id= 'DFF', observation_start= start, observation_end=end)\n",
    "federal_funds_rate = pd.DataFrame(federal_funds_rate).reset_index().rename(columns={'index':'Date', 0:'FF_Rate'})\n",
    "federal_funds_rate"
   ]
  },
  {
   "cell_type": "markdown",
   "metadata": {
    "id": "jzH5-JTx11Kb"
   },
   "source": [
    "## Data Cleaning and Preprocessing"
   ]
  },
  {
   "cell_type": "code",
   "execution_count": 15,
   "metadata": {
    "id": "rL5hXlMc1z0V"
   },
   "outputs": [],
   "source": [
    "sp500_date_conversion = sp500.groupby(sp500['Day'].dt.strftime('%m %Y')).first().rename(columns={\"Day\":\"Month\"}).reset_index(drop=True)\n",
    "sp500_date_conversion['Date'] = pd.to_datetime(sp500_date_conversion['Month'].dt.year.astype(str)+'/'+sp500_date_conversion['Month'].dt.month.astype(str)+'/01')\n"
   ]
  },
  {
   "cell_type": "code",
   "execution_count": 16,
   "metadata": {
    "colab": {
     "base_uri": "https://localhost:8080/",
     "height": 206
    },
    "id": "KM9uNjdF2DVj",
    "outputId": "5cc86425-0f04-402c-d2a8-3d752d1615c5"
   },
   "outputs": [
    {
     "data": {
      "text/html": [
       "<div>\n",
       "<style scoped>\n",
       "    .dataframe tbody tr th:only-of-type {\n",
       "        vertical-align: middle;\n",
       "    }\n",
       "\n",
       "    .dataframe tbody tr th {\n",
       "        vertical-align: top;\n",
       "    }\n",
       "\n",
       "    .dataframe thead th {\n",
       "        text-align: right;\n",
       "    }\n",
       "</style>\n",
       "<table border=\"1\" class=\"dataframe\">\n",
       "  <thead>\n",
       "    <tr style=\"text-align: right;\">\n",
       "      <th></th>\n",
       "      <th>SP500</th>\n",
       "      <th>Date</th>\n",
       "    </tr>\n",
       "  </thead>\n",
       "  <tbody>\n",
       "    <tr>\n",
       "      <th>0</th>\n",
       "      <td>1409.46</td>\n",
       "      <td>2012-12-01</td>\n",
       "    </tr>\n",
       "    <tr>\n",
       "      <th>1</th>\n",
       "      <td>1462.42</td>\n",
       "      <td>2013-01-01</td>\n",
       "    </tr>\n",
       "    <tr>\n",
       "      <th>2</th>\n",
       "      <td>1513.17</td>\n",
       "      <td>2013-02-01</td>\n",
       "    </tr>\n",
       "    <tr>\n",
       "      <th>3</th>\n",
       "      <td>1518.20</td>\n",
       "      <td>2013-03-01</td>\n",
       "    </tr>\n",
       "    <tr>\n",
       "      <th>4</th>\n",
       "      <td>1562.17</td>\n",
       "      <td>2013-04-01</td>\n",
       "    </tr>\n",
       "  </tbody>\n",
       "</table>\n",
       "</div>"
      ],
      "text/plain": [
       "     SP500       Date\n",
       "0  1409.46 2012-12-01\n",
       "1  1462.42 2013-01-01\n",
       "2  1513.17 2013-02-01\n",
       "3  1518.20 2013-03-01\n",
       "4  1562.17 2013-04-01"
      ]
     },
     "execution_count": 16,
     "metadata": {},
     "output_type": "execute_result"
    }
   ],
   "source": [
    "sp500_month = sp500_date_conversion.drop(columns='Month').sort_values('Date').reset_index().drop(columns='index')\n",
    "sp500_month.head()"
   ]
  },
  {
   "cell_type": "code",
   "execution_count": 17,
   "metadata": {
    "colab": {
     "base_uri": "https://localhost:8080/"
    },
    "id": "psfIhnq82DZK",
    "outputId": "d98570a4-fa61-4626-b7a7-d9be45a43cea"
   },
   "outputs": [
    {
     "name": "stdout",
     "output_type": "stream",
     "text": [
      "<class 'pandas.core.frame.DataFrame'>\n",
      "RangeIndex: 121 entries, 0 to 120\n",
      "Data columns (total 2 columns):\n",
      " #   Column  Non-Null Count  Dtype         \n",
      "---  ------  --------------  -----         \n",
      " 0   SP500   121 non-null    float64       \n",
      " 1   Date    121 non-null    datetime64[ns]\n",
      "dtypes: datetime64[ns](1), float64(1)\n",
      "memory usage: 2.0 KB\n"
     ]
    }
   ],
   "source": [
    "sp500_month.info()"
   ]
  },
  {
   "cell_type": "code",
   "execution_count": 18,
   "metadata": {
    "id": "zRA1e1zcmDS-"
   },
   "outputs": [],
   "source": [
    "pd.options.display.float_format = '{:,.5f}'.format"
   ]
  },
  {
   "cell_type": "code",
   "execution_count": 19,
   "metadata": {
    "colab": {
     "base_uri": "https://localhost:8080/",
     "height": 423
    },
    "id": "3EPMhTkvfCte",
    "outputId": "a17cee15-6de0-4708-91ae-cc506a545b16"
   },
   "outputs": [
    {
     "data": {
      "text/html": [
       "<div>\n",
       "<style scoped>\n",
       "    .dataframe tbody tr th:only-of-type {\n",
       "        vertical-align: middle;\n",
       "    }\n",
       "\n",
       "    .dataframe tbody tr th {\n",
       "        vertical-align: top;\n",
       "    }\n",
       "\n",
       "    .dataframe thead th {\n",
       "        text-align: right;\n",
       "    }\n",
       "</style>\n",
       "<table border=\"1\" class=\"dataframe\">\n",
       "  <thead>\n",
       "    <tr style=\"text-align: right;\">\n",
       "      <th></th>\n",
       "      <th>Date</th>\n",
       "      <th>House_Price_Index</th>\n",
       "    </tr>\n",
       "  </thead>\n",
       "  <tbody>\n",
       "    <tr>\n",
       "      <th>0</th>\n",
       "      <td>2000-01-01</td>\n",
       "      <td>0.00000</td>\n",
       "    </tr>\n",
       "    <tr>\n",
       "      <th>1</th>\n",
       "      <td>2000-04-01</td>\n",
       "      <td>0.00941</td>\n",
       "    </tr>\n",
       "    <tr>\n",
       "      <th>2</th>\n",
       "      <td>2000-07-01</td>\n",
       "      <td>0.02009</td>\n",
       "    </tr>\n",
       "    <tr>\n",
       "      <th>3</th>\n",
       "      <td>2000-10-01</td>\n",
       "      <td>0.02925</td>\n",
       "    </tr>\n",
       "    <tr>\n",
       "      <th>4</th>\n",
       "      <td>2001-01-01</td>\n",
       "      <td>0.04424</td>\n",
       "    </tr>\n",
       "    <tr>\n",
       "      <th>...</th>\n",
       "      <td>...</td>\n",
       "      <td>...</td>\n",
       "    </tr>\n",
       "    <tr>\n",
       "      <th>86</th>\n",
       "      <td>2021-07-01</td>\n",
       "      <td>0.77577</td>\n",
       "    </tr>\n",
       "    <tr>\n",
       "      <th>87</th>\n",
       "      <td>2021-10-01</td>\n",
       "      <td>0.82250</td>\n",
       "    </tr>\n",
       "    <tr>\n",
       "      <th>88</th>\n",
       "      <td>2022-01-01</td>\n",
       "      <td>0.87414</td>\n",
       "    </tr>\n",
       "    <tr>\n",
       "      <th>89</th>\n",
       "      <td>2022-04-01</td>\n",
       "      <td>0.97364</td>\n",
       "    </tr>\n",
       "    <tr>\n",
       "      <th>90</th>\n",
       "      <td>2022-07-01</td>\n",
       "      <td>1.00000</td>\n",
       "    </tr>\n",
       "  </tbody>\n",
       "</table>\n",
       "<p>91 rows × 2 columns</p>\n",
       "</div>"
      ],
      "text/plain": [
       "         Date  House_Price_Index\n",
       "0  2000-01-01            0.00000\n",
       "1  2000-04-01            0.00941\n",
       "2  2000-07-01            0.02009\n",
       "3  2000-10-01            0.02925\n",
       "4  2001-01-01            0.04424\n",
       "..        ...                ...\n",
       "86 2021-07-01            0.77577\n",
       "87 2021-10-01            0.82250\n",
       "88 2022-01-01            0.87414\n",
       "89 2022-04-01            0.97364\n",
       "90 2022-07-01            1.00000\n",
       "\n",
       "[91 rows x 2 columns]"
      ]
     },
     "execution_count": 19,
     "metadata": {},
     "output_type": "execute_result"
    }
   ],
   "source": [
    "national_house_price_norm = national_house_price.copy()\n",
    "column = 'House_Price_Index'\n",
    "national_house_price_norm[column] = MinMaxScaler().fit_transform(np.array(national_house_price_norm[column]).reshape(-1,1))\n",
    "national_house_price_norm"
   ]
  },
  {
   "cell_type": "code",
   "execution_count": 20,
   "metadata": {
    "colab": {
     "base_uri": "https://localhost:8080/",
     "height": 423
    },
    "id": "vpVW0Fl8hX1I",
    "outputId": "7b698690-7baf-4294-b7bd-66767ca3e8ef"
   },
   "outputs": [
    {
     "data": {
      "text/html": [
       "<div>\n",
       "<style scoped>\n",
       "    .dataframe tbody tr th:only-of-type {\n",
       "        vertical-align: middle;\n",
       "    }\n",
       "\n",
       "    .dataframe tbody tr th {\n",
       "        vertical-align: top;\n",
       "    }\n",
       "\n",
       "    .dataframe thead th {\n",
       "        text-align: right;\n",
       "    }\n",
       "</style>\n",
       "<table border=\"1\" class=\"dataframe\">\n",
       "  <thead>\n",
       "    <tr style=\"text-align: right;\">\n",
       "      <th></th>\n",
       "      <th>SP500</th>\n",
       "      <th>Date</th>\n",
       "    </tr>\n",
       "  </thead>\n",
       "  <tbody>\n",
       "    <tr>\n",
       "      <th>0</th>\n",
       "      <td>0.00000</td>\n",
       "      <td>2012-12-01</td>\n",
       "    </tr>\n",
       "    <tr>\n",
       "      <th>1</th>\n",
       "      <td>0.01564</td>\n",
       "      <td>2013-01-01</td>\n",
       "    </tr>\n",
       "    <tr>\n",
       "      <th>2</th>\n",
       "      <td>0.03062</td>\n",
       "      <td>2013-02-01</td>\n",
       "    </tr>\n",
       "    <tr>\n",
       "      <th>3</th>\n",
       "      <td>0.03210</td>\n",
       "      <td>2013-03-01</td>\n",
       "    </tr>\n",
       "    <tr>\n",
       "      <th>4</th>\n",
       "      <td>0.04509</td>\n",
       "      <td>2013-04-01</td>\n",
       "    </tr>\n",
       "    <tr>\n",
       "      <th>...</th>\n",
       "      <td>...</td>\n",
       "      <td>...</td>\n",
       "    </tr>\n",
       "    <tr>\n",
       "      <th>116</th>\n",
       "      <td>0.79985</td>\n",
       "      <td>2022-08-01</td>\n",
       "    </tr>\n",
       "    <tr>\n",
       "      <th>117</th>\n",
       "      <td>0.75504</td>\n",
       "      <td>2022-09-01</td>\n",
       "    </tr>\n",
       "    <tr>\n",
       "      <th>118</th>\n",
       "      <td>0.66989</td>\n",
       "      <td>2022-10-01</td>\n",
       "    </tr>\n",
       "    <tr>\n",
       "      <th>119</th>\n",
       "      <td>0.72234</td>\n",
       "      <td>2022-11-01</td>\n",
       "    </tr>\n",
       "    <tr>\n",
       "      <th>120</th>\n",
       "      <td>0.78743</td>\n",
       "      <td>2022-12-01</td>\n",
       "    </tr>\n",
       "  </tbody>\n",
       "</table>\n",
       "<p>121 rows × 2 columns</p>\n",
       "</div>"
      ],
      "text/plain": [
       "      SP500       Date\n",
       "0   0.00000 2012-12-01\n",
       "1   0.01564 2013-01-01\n",
       "2   0.03062 2013-02-01\n",
       "3   0.03210 2013-03-01\n",
       "4   0.04509 2013-04-01\n",
       "..      ...        ...\n",
       "116 0.79985 2022-08-01\n",
       "117 0.75504 2022-09-01\n",
       "118 0.66989 2022-10-01\n",
       "119 0.72234 2022-11-01\n",
       "120 0.78743 2022-12-01\n",
       "\n",
       "[121 rows x 2 columns]"
      ]
     },
     "execution_count": 20,
     "metadata": {},
     "output_type": "execute_result"
    }
   ],
   "source": [
    "sp500_month_norm = sp500_month.copy()\n",
    "column = 'SP500'\n",
    "sp500_month_norm[column] = MinMaxScaler().fit_transform(np.array(sp500_month_norm[column]).reshape(-1,1))\n",
    "sp500_month_norm"
   ]
  },
  {
   "cell_type": "code",
   "execution_count": 21,
   "metadata": {
    "colab": {
     "base_uri": "https://localhost:8080/",
     "height": 423
    },
    "id": "xIoldaSbfCxo",
    "outputId": "b85bcb91-ba90-4023-cb57-ed9efe60d1de"
   },
   "outputs": [
    {
     "data": {
      "text/html": [
       "<div>\n",
       "<style scoped>\n",
       "    .dataframe tbody tr th:only-of-type {\n",
       "        vertical-align: middle;\n",
       "    }\n",
       "\n",
       "    .dataframe tbody tr th {\n",
       "        vertical-align: top;\n",
       "    }\n",
       "\n",
       "    .dataframe thead th {\n",
       "        text-align: right;\n",
       "    }\n",
       "</style>\n",
       "<table border=\"1\" class=\"dataframe\">\n",
       "  <thead>\n",
       "    <tr style=\"text-align: right;\">\n",
       "      <th></th>\n",
       "      <th>Date</th>\n",
       "      <th>Unemployment</th>\n",
       "    </tr>\n",
       "  </thead>\n",
       "  <tbody>\n",
       "    <tr>\n",
       "      <th>0</th>\n",
       "      <td>2000-01-01</td>\n",
       "      <td>0.04464</td>\n",
       "    </tr>\n",
       "    <tr>\n",
       "      <th>1</th>\n",
       "      <td>2000-02-01</td>\n",
       "      <td>0.05357</td>\n",
       "    </tr>\n",
       "    <tr>\n",
       "      <th>2</th>\n",
       "      <td>2000-03-01</td>\n",
       "      <td>0.04464</td>\n",
       "    </tr>\n",
       "    <tr>\n",
       "      <th>3</th>\n",
       "      <td>2000-04-01</td>\n",
       "      <td>0.02679</td>\n",
       "    </tr>\n",
       "    <tr>\n",
       "      <th>4</th>\n",
       "      <td>2000-05-01</td>\n",
       "      <td>0.04464</td>\n",
       "    </tr>\n",
       "    <tr>\n",
       "      <th>...</th>\n",
       "      <td>...</td>\n",
       "      <td>...</td>\n",
       "    </tr>\n",
       "    <tr>\n",
       "      <th>270</th>\n",
       "      <td>2022-07-01</td>\n",
       "      <td>0.00000</td>\n",
       "    </tr>\n",
       "    <tr>\n",
       "      <th>271</th>\n",
       "      <td>2022-08-01</td>\n",
       "      <td>0.01786</td>\n",
       "    </tr>\n",
       "    <tr>\n",
       "      <th>272</th>\n",
       "      <td>2022-09-01</td>\n",
       "      <td>0.00000</td>\n",
       "    </tr>\n",
       "    <tr>\n",
       "      <th>273</th>\n",
       "      <td>2022-10-01</td>\n",
       "      <td>0.01786</td>\n",
       "    </tr>\n",
       "    <tr>\n",
       "      <th>274</th>\n",
       "      <td>2022-11-01</td>\n",
       "      <td>0.01786</td>\n",
       "    </tr>\n",
       "  </tbody>\n",
       "</table>\n",
       "<p>275 rows × 2 columns</p>\n",
       "</div>"
      ],
      "text/plain": [
       "          Date  Unemployment\n",
       "0   2000-01-01       0.04464\n",
       "1   2000-02-01       0.05357\n",
       "2   2000-03-01       0.04464\n",
       "3   2000-04-01       0.02679\n",
       "4   2000-05-01       0.04464\n",
       "..         ...           ...\n",
       "270 2022-07-01       0.00000\n",
       "271 2022-08-01       0.01786\n",
       "272 2022-09-01       0.00000\n",
       "273 2022-10-01       0.01786\n",
       "274 2022-11-01       0.01786\n",
       "\n",
       "[275 rows x 2 columns]"
      ]
     },
     "execution_count": 21,
     "metadata": {},
     "output_type": "execute_result"
    }
   ],
   "source": [
    "unemployment_norm = unemployment.copy()\n",
    "column = 'Unemployment'\n",
    "unemployment_norm[column] = MinMaxScaler().fit_transform(np.array(unemployment_norm[column]).reshape(-1,1))\n",
    "unemployment_norm"
   ]
  },
  {
   "cell_type": "code",
   "execution_count": 22,
   "metadata": {
    "colab": {
     "base_uri": "https://localhost:8080/",
     "height": 423
    },
    "id": "ennkx5a-fC1I",
    "outputId": "ce141f41-2402-45a9-edd0-a59b1becb59a"
   },
   "outputs": [
    {
     "data": {
      "text/html": [
       "<div>\n",
       "<style scoped>\n",
       "    .dataframe tbody tr th:only-of-type {\n",
       "        vertical-align: middle;\n",
       "    }\n",
       "\n",
       "    .dataframe tbody tr th {\n",
       "        vertical-align: top;\n",
       "    }\n",
       "\n",
       "    .dataframe thead th {\n",
       "        text-align: right;\n",
       "    }\n",
       "</style>\n",
       "<table border=\"1\" class=\"dataframe\">\n",
       "  <thead>\n",
       "    <tr style=\"text-align: right;\">\n",
       "      <th></th>\n",
       "      <th>Date</th>\n",
       "      <th>Inflation</th>\n",
       "    </tr>\n",
       "  </thead>\n",
       "  <tbody>\n",
       "    <tr>\n",
       "      <th>0</th>\n",
       "      <td>2000-01-01</td>\n",
       "      <td>0.43515</td>\n",
       "    </tr>\n",
       "    <tr>\n",
       "      <th>1</th>\n",
       "      <td>2000-02-01</td>\n",
       "      <td>0.32302</td>\n",
       "    </tr>\n",
       "    <tr>\n",
       "      <th>2</th>\n",
       "      <td>2000-03-01</td>\n",
       "      <td>0.38941</td>\n",
       "    </tr>\n",
       "    <tr>\n",
       "      <th>3</th>\n",
       "      <td>2000-04-01</td>\n",
       "      <td>0.26953</td>\n",
       "    </tr>\n",
       "    <tr>\n",
       "      <th>4</th>\n",
       "      <td>2000-05-01</td>\n",
       "      <td>0.33017</td>\n",
       "    </tr>\n",
       "    <tr>\n",
       "      <th>...</th>\n",
       "      <td>...</td>\n",
       "      <td>...</td>\n",
       "    </tr>\n",
       "    <tr>\n",
       "      <th>269</th>\n",
       "      <td>2022-06-01</td>\n",
       "      <td>0.99028</td>\n",
       "    </tr>\n",
       "    <tr>\n",
       "      <th>270</th>\n",
       "      <td>2022-07-01</td>\n",
       "      <td>0.71186</td>\n",
       "    </tr>\n",
       "    <tr>\n",
       "      <th>271</th>\n",
       "      <td>2022-08-01</td>\n",
       "      <td>1.00000</td>\n",
       "    </tr>\n",
       "    <tr>\n",
       "      <th>272</th>\n",
       "      <td>2022-09-01</td>\n",
       "      <td>0.90376</td>\n",
       "    </tr>\n",
       "    <tr>\n",
       "      <th>273</th>\n",
       "      <td>2022-10-01</td>\n",
       "      <td>0.71710</td>\n",
       "    </tr>\n",
       "  </tbody>\n",
       "</table>\n",
       "<p>274 rows × 2 columns</p>\n",
       "</div>"
      ],
      "text/plain": [
       "          Date  Inflation\n",
       "0   2000-01-01    0.43515\n",
       "1   2000-02-01    0.32302\n",
       "2   2000-03-01    0.38941\n",
       "3   2000-04-01    0.26953\n",
       "4   2000-05-01    0.33017\n",
       "..         ...        ...\n",
       "269 2022-06-01    0.99028\n",
       "270 2022-07-01    0.71186\n",
       "271 2022-08-01    1.00000\n",
       "272 2022-09-01    0.90376\n",
       "273 2022-10-01    0.71710\n",
       "\n",
       "[274 rows x 2 columns]"
      ]
     },
     "execution_count": 22,
     "metadata": {},
     "output_type": "execute_result"
    }
   ],
   "source": [
    "inflation_norm = inflation.copy()\n",
    "column = 'Inflation'\n",
    "inflation_norm[column] = MinMaxScaler().fit_transform(np.array(inflation_norm[column]).reshape(-1,1))\n",
    "inflation_norm"
   ]
  },
  {
   "cell_type": "code",
   "execution_count": 23,
   "metadata": {
    "colab": {
     "base_uri": "https://localhost:8080/",
     "height": 423
    },
    "id": "E8ZZ-H4xhXx7",
    "outputId": "af831b37-9419-40b8-e326-635d9c083588"
   },
   "outputs": [
    {
     "data": {
      "text/html": [
       "<div>\n",
       "<style scoped>\n",
       "    .dataframe tbody tr th:only-of-type {\n",
       "        vertical-align: middle;\n",
       "    }\n",
       "\n",
       "    .dataframe tbody tr th {\n",
       "        vertical-align: top;\n",
       "    }\n",
       "\n",
       "    .dataframe thead th {\n",
       "        text-align: right;\n",
       "    }\n",
       "</style>\n",
       "<table border=\"1\" class=\"dataframe\">\n",
       "  <thead>\n",
       "    <tr style=\"text-align: right;\">\n",
       "      <th></th>\n",
       "      <th>Date</th>\n",
       "      <th>FF_Rate</th>\n",
       "    </tr>\n",
       "  </thead>\n",
       "  <tbody>\n",
       "    <tr>\n",
       "      <th>0</th>\n",
       "      <td>2000-01-01</td>\n",
       "      <td>0.56509</td>\n",
       "    </tr>\n",
       "    <tr>\n",
       "      <th>1</th>\n",
       "      <td>2000-01-02</td>\n",
       "      <td>0.56509</td>\n",
       "    </tr>\n",
       "    <tr>\n",
       "      <th>2</th>\n",
       "      <td>2000-01-03</td>\n",
       "      <td>0.77110</td>\n",
       "    </tr>\n",
       "    <tr>\n",
       "      <th>3</th>\n",
       "      <td>2000-01-04</td>\n",
       "      <td>0.76395</td>\n",
       "    </tr>\n",
       "    <tr>\n",
       "      <th>4</th>\n",
       "      <td>2000-01-05</td>\n",
       "      <td>0.76824</td>\n",
       "    </tr>\n",
       "    <tr>\n",
       "      <th>...</th>\n",
       "      <td>...</td>\n",
       "      <td>...</td>\n",
       "    </tr>\n",
       "    <tr>\n",
       "      <th>8366</th>\n",
       "      <td>2022-11-27</td>\n",
       "      <td>0.54220</td>\n",
       "    </tr>\n",
       "    <tr>\n",
       "      <th>8367</th>\n",
       "      <td>2022-11-28</td>\n",
       "      <td>0.54220</td>\n",
       "    </tr>\n",
       "    <tr>\n",
       "      <th>8368</th>\n",
       "      <td>2022-11-29</td>\n",
       "      <td>0.54220</td>\n",
       "    </tr>\n",
       "    <tr>\n",
       "      <th>8369</th>\n",
       "      <td>2022-11-30</td>\n",
       "      <td>0.54220</td>\n",
       "    </tr>\n",
       "    <tr>\n",
       "      <th>8370</th>\n",
       "      <td>2022-12-01</td>\n",
       "      <td>0.54220</td>\n",
       "    </tr>\n",
       "  </tbody>\n",
       "</table>\n",
       "<p>8371 rows × 2 columns</p>\n",
       "</div>"
      ],
      "text/plain": [
       "           Date  FF_Rate\n",
       "0    2000-01-01  0.56509\n",
       "1    2000-01-02  0.56509\n",
       "2    2000-01-03  0.77110\n",
       "3    2000-01-04  0.76395\n",
       "4    2000-01-05  0.76824\n",
       "...         ...      ...\n",
       "8366 2022-11-27  0.54220\n",
       "8367 2022-11-28  0.54220\n",
       "8368 2022-11-29  0.54220\n",
       "8369 2022-11-30  0.54220\n",
       "8370 2022-12-01  0.54220\n",
       "\n",
       "[8371 rows x 2 columns]"
      ]
     },
     "execution_count": 23,
     "metadata": {},
     "output_type": "execute_result"
    }
   ],
   "source": [
    "federal_funds_rate_norm = federal_funds_rate.copy()\n",
    "column = 'FF_Rate'\n",
    "federal_funds_rate_norm[column] = MinMaxScaler().fit_transform(np.array(federal_funds_rate_norm[column]).reshape(-1,1))\n",
    "federal_funds_rate_norm"
   ]
  },
  {
   "cell_type": "code",
   "execution_count": 24,
   "metadata": {
    "colab": {
     "base_uri": "https://localhost:8080/",
     "height": 206
    },
    "id": "MxXbnLjR2Ddw",
    "outputId": "7b48e84b-707a-4e5d-95df-72a45665014b"
   },
   "outputs": [
    {
     "data": {
      "text/html": [
       "<div>\n",
       "<style scoped>\n",
       "    .dataframe tbody tr th:only-of-type {\n",
       "        vertical-align: middle;\n",
       "    }\n",
       "\n",
       "    .dataframe tbody tr th {\n",
       "        vertical-align: top;\n",
       "    }\n",
       "\n",
       "    .dataframe thead th {\n",
       "        text-align: right;\n",
       "    }\n",
       "</style>\n",
       "<table border=\"1\" class=\"dataframe\">\n",
       "  <thead>\n",
       "    <tr style=\"text-align: right;\">\n",
       "      <th></th>\n",
       "      <th>Date</th>\n",
       "      <th>House_Price_Index</th>\n",
       "      <th>SP500</th>\n",
       "      <th>Unemployment</th>\n",
       "      <th>Inflation</th>\n",
       "      <th>FF_Rate</th>\n",
       "    </tr>\n",
       "  </thead>\n",
       "  <tbody>\n",
       "    <tr>\n",
       "      <th>0</th>\n",
       "      <td>2013-01-01</td>\n",
       "      <td>316.79000</td>\n",
       "      <td>1,462.42000</td>\n",
       "      <td>8.00000</td>\n",
       "      <td>2.74181</td>\n",
       "      <td>0.09000</td>\n",
       "    </tr>\n",
       "    <tr>\n",
       "      <th>1</th>\n",
       "      <td>2013-04-01</td>\n",
       "      <td>321.63000</td>\n",
       "      <td>1,562.17000</td>\n",
       "      <td>7.60000</td>\n",
       "      <td>2.08888</td>\n",
       "      <td>0.16000</td>\n",
       "    </tr>\n",
       "    <tr>\n",
       "      <th>2</th>\n",
       "      <td>2013-07-01</td>\n",
       "      <td>326.28000</td>\n",
       "      <td>1,614.96000</td>\n",
       "      <td>7.30000</td>\n",
       "      <td>2.00320</td>\n",
       "      <td>0.10000</td>\n",
       "    </tr>\n",
       "    <tr>\n",
       "      <th>3</th>\n",
       "      <td>2013-10-01</td>\n",
       "      <td>328.89000</td>\n",
       "      <td>1,695.00000</td>\n",
       "      <td>7.20000</td>\n",
       "      <td>1.16373</td>\n",
       "      <td>0.08000</td>\n",
       "    </tr>\n",
       "    <tr>\n",
       "      <th>4</th>\n",
       "      <td>2014-01-01</td>\n",
       "      <td>331.62000</td>\n",
       "      <td>1,831.98000</td>\n",
       "      <td>6.60000</td>\n",
       "      <td>2.40633</td>\n",
       "      <td>0.07000</td>\n",
       "    </tr>\n",
       "  </tbody>\n",
       "</table>\n",
       "</div>"
      ],
      "text/plain": [
       "        Date  House_Price_Index       SP500  Unemployment  Inflation  FF_Rate\n",
       "0 2013-01-01          316.79000 1,462.42000       8.00000    2.74181  0.09000\n",
       "1 2013-04-01          321.63000 1,562.17000       7.60000    2.08888  0.16000\n",
       "2 2013-07-01          326.28000 1,614.96000       7.30000    2.00320  0.10000\n",
       "3 2013-10-01          328.89000 1,695.00000       7.20000    1.16373  0.08000\n",
       "4 2014-01-01          331.62000 1,831.98000       6.60000    2.40633  0.07000"
      ]
     },
     "execution_count": 24,
     "metadata": {},
     "output_type": "execute_result"
    }
   ],
   "source": [
    "df_with_sp500 = national_house_price.merge(sp500_month).merge(unemployment).merge(inflation).merge(federal_funds_rate)\n",
    "df_with_sp500.head()"
   ]
  },
  {
   "cell_type": "code",
   "execution_count": 25,
   "metadata": {
    "colab": {
     "base_uri": "https://localhost:8080/",
     "height": 206
    },
    "id": "O7FiS7-kiXfn",
    "outputId": "61e301f6-e202-4eee-8537-f98be464addb"
   },
   "outputs": [
    {
     "data": {
      "text/html": [
       "<div>\n",
       "<style scoped>\n",
       "    .dataframe tbody tr th:only-of-type {\n",
       "        vertical-align: middle;\n",
       "    }\n",
       "\n",
       "    .dataframe tbody tr th {\n",
       "        vertical-align: top;\n",
       "    }\n",
       "\n",
       "    .dataframe thead th {\n",
       "        text-align: right;\n",
       "    }\n",
       "</style>\n",
       "<table border=\"1\" class=\"dataframe\">\n",
       "  <thead>\n",
       "    <tr style=\"text-align: right;\">\n",
       "      <th></th>\n",
       "      <th>Date</th>\n",
       "      <th>House_Price_Index</th>\n",
       "      <th>SP500</th>\n",
       "      <th>Unemployment</th>\n",
       "      <th>Inflation</th>\n",
       "      <th>FF_Rate</th>\n",
       "    </tr>\n",
       "  </thead>\n",
       "  <tbody>\n",
       "    <tr>\n",
       "      <th>0</th>\n",
       "      <td>2013-01-01</td>\n",
       "      <td>0.21723</td>\n",
       "      <td>0.01564</td>\n",
       "      <td>0.40179</td>\n",
       "      <td>0.31842</td>\n",
       "      <td>0.00715</td>\n",
       "    </tr>\n",
       "    <tr>\n",
       "      <th>1</th>\n",
       "      <td>2013-04-01</td>\n",
       "      <td>0.22937</td>\n",
       "      <td>0.04509</td>\n",
       "      <td>0.36607</td>\n",
       "      <td>0.24976</td>\n",
       "      <td>0.01717</td>\n",
       "    </tr>\n",
       "    <tr>\n",
       "      <th>2</th>\n",
       "      <td>2013-07-01</td>\n",
       "      <td>0.24103</td>\n",
       "      <td>0.06067</td>\n",
       "      <td>0.33929</td>\n",
       "      <td>0.24075</td>\n",
       "      <td>0.00858</td>\n",
       "    </tr>\n",
       "    <tr>\n",
       "      <th>3</th>\n",
       "      <td>2013-10-01</td>\n",
       "      <td>0.24758</td>\n",
       "      <td>0.08430</td>\n",
       "      <td>0.33036</td>\n",
       "      <td>0.15246</td>\n",
       "      <td>0.00572</td>\n",
       "    </tr>\n",
       "    <tr>\n",
       "      <th>4</th>\n",
       "      <td>2014-01-01</td>\n",
       "      <td>0.25443</td>\n",
       "      <td>0.12474</td>\n",
       "      <td>0.27679</td>\n",
       "      <td>0.28314</td>\n",
       "      <td>0.00429</td>\n",
       "    </tr>\n",
       "  </tbody>\n",
       "</table>\n",
       "</div>"
      ],
      "text/plain": [
       "        Date  House_Price_Index   SP500  Unemployment  Inflation  FF_Rate\n",
       "0 2013-01-01            0.21723 0.01564       0.40179    0.31842  0.00715\n",
       "1 2013-04-01            0.22937 0.04509       0.36607    0.24976  0.01717\n",
       "2 2013-07-01            0.24103 0.06067       0.33929    0.24075  0.00858\n",
       "3 2013-10-01            0.24758 0.08430       0.33036    0.15246  0.00572\n",
       "4 2014-01-01            0.25443 0.12474       0.27679    0.28314  0.00429"
      ]
     },
     "execution_count": 25,
     "metadata": {},
     "output_type": "execute_result"
    }
   ],
   "source": [
    "df_with_sp500_norm = national_house_price_norm.merge(sp500_month_norm).merge(unemployment_norm).merge(inflation_norm).merge(federal_funds_rate_norm)\n",
    "df_with_sp500_norm.head()"
   ]
  },
  {
   "cell_type": "code",
   "execution_count": 26,
   "metadata": {
    "colab": {
     "base_uri": "https://localhost:8080/",
     "height": 206
    },
    "id": "IHpkPltJiz7_",
    "outputId": "ddf37812-9a1b-4615-ace1-1febf2d9e273"
   },
   "outputs": [
    {
     "data": {
      "text/html": [
       "<div>\n",
       "<style scoped>\n",
       "    .dataframe tbody tr th:only-of-type {\n",
       "        vertical-align: middle;\n",
       "    }\n",
       "\n",
       "    .dataframe tbody tr th {\n",
       "        vertical-align: top;\n",
       "    }\n",
       "\n",
       "    .dataframe thead th {\n",
       "        text-align: right;\n",
       "    }\n",
       "</style>\n",
       "<table border=\"1\" class=\"dataframe\">\n",
       "  <thead>\n",
       "    <tr style=\"text-align: right;\">\n",
       "      <th></th>\n",
       "      <th>Date</th>\n",
       "      <th>House_Price_Index</th>\n",
       "      <th>Unemployment</th>\n",
       "      <th>Inflation</th>\n",
       "      <th>FF_Rate</th>\n",
       "    </tr>\n",
       "  </thead>\n",
       "  <tbody>\n",
       "    <tr>\n",
       "      <th>0</th>\n",
       "      <td>2000-01-01</td>\n",
       "      <td>0.00000</td>\n",
       "      <td>0.04464</td>\n",
       "      <td>0.43515</td>\n",
       "      <td>0.56509</td>\n",
       "    </tr>\n",
       "    <tr>\n",
       "      <th>1</th>\n",
       "      <td>2000-04-01</td>\n",
       "      <td>0.00941</td>\n",
       "      <td>0.02679</td>\n",
       "      <td>0.26953</td>\n",
       "      <td>0.87697</td>\n",
       "    </tr>\n",
       "    <tr>\n",
       "      <th>2</th>\n",
       "      <td>2000-07-01</td>\n",
       "      <td>0.02009</td>\n",
       "      <td>0.04464</td>\n",
       "      <td>0.39146</td>\n",
       "      <td>0.97568</td>\n",
       "    </tr>\n",
       "    <tr>\n",
       "      <th>3</th>\n",
       "      <td>2000-10-01</td>\n",
       "      <td>0.02925</td>\n",
       "      <td>0.03571</td>\n",
       "      <td>0.31414</td>\n",
       "      <td>0.93848</td>\n",
       "    </tr>\n",
       "    <tr>\n",
       "      <th>4</th>\n",
       "      <td>2001-01-01</td>\n",
       "      <td>0.04424</td>\n",
       "      <td>0.06250</td>\n",
       "      <td>0.45878</td>\n",
       "      <td>0.76824</td>\n",
       "    </tr>\n",
       "  </tbody>\n",
       "</table>\n",
       "</div>"
      ],
      "text/plain": [
       "        Date  House_Price_Index  Unemployment  Inflation  FF_Rate\n",
       "0 2000-01-01            0.00000       0.04464    0.43515  0.56509\n",
       "1 2000-04-01            0.00941       0.02679    0.26953  0.87697\n",
       "2 2000-07-01            0.02009       0.04464    0.39146  0.97568\n",
       "3 2000-10-01            0.02925       0.03571    0.31414  0.93848\n",
       "4 2001-01-01            0.04424       0.06250    0.45878  0.76824"
      ]
     },
     "execution_count": 26,
     "metadata": {},
     "output_type": "execute_result"
    }
   ],
   "source": [
    "df_without_sp500_norm = national_house_price_norm.merge(unemployment_norm).merge(inflation_norm).merge(federal_funds_rate_norm)\n",
    "df_without_sp500_norm.head()"
   ]
  },
  {
   "cell_type": "code",
   "execution_count": 27,
   "metadata": {
    "colab": {
     "base_uri": "https://localhost:8080/",
     "height": 206
    },
    "id": "pnbwlutIGuZW",
    "outputId": "b6cff24e-d67e-4361-907e-ced7dfe66b0c"
   },
   "outputs": [
    {
     "data": {
      "text/html": [
       "<div>\n",
       "<style scoped>\n",
       "    .dataframe tbody tr th:only-of-type {\n",
       "        vertical-align: middle;\n",
       "    }\n",
       "\n",
       "    .dataframe tbody tr th {\n",
       "        vertical-align: top;\n",
       "    }\n",
       "\n",
       "    .dataframe thead th {\n",
       "        text-align: right;\n",
       "    }\n",
       "</style>\n",
       "<table border=\"1\" class=\"dataframe\">\n",
       "  <thead>\n",
       "    <tr style=\"text-align: right;\">\n",
       "      <th></th>\n",
       "      <th>Date</th>\n",
       "      <th>House_Price_Index</th>\n",
       "      <th>Unemployment</th>\n",
       "      <th>Inflation</th>\n",
       "      <th>FF_Rate</th>\n",
       "    </tr>\n",
       "  </thead>\n",
       "  <tbody>\n",
       "    <tr>\n",
       "      <th>0</th>\n",
       "      <td>2000-01-01</td>\n",
       "      <td>230.18000</td>\n",
       "      <td>4.00000</td>\n",
       "      <td>3.85177</td>\n",
       "      <td>3.99000</td>\n",
       "    </tr>\n",
       "    <tr>\n",
       "      <th>1</th>\n",
       "      <td>2000-04-01</td>\n",
       "      <td>233.93000</td>\n",
       "      <td>3.80000</td>\n",
       "      <td>2.27690</td>\n",
       "      <td>6.17000</td>\n",
       "    </tr>\n",
       "    <tr>\n",
       "      <th>2</th>\n",
       "      <td>2000-07-01</td>\n",
       "      <td>238.19000</td>\n",
       "      <td>4.00000</td>\n",
       "      <td>3.43636</td>\n",
       "      <td>6.86000</td>\n",
       "    </tr>\n",
       "    <tr>\n",
       "      <th>3</th>\n",
       "      <td>2000-10-01</td>\n",
       "      <td>241.84000</td>\n",
       "      <td>3.90000</td>\n",
       "      <td>2.70107</td>\n",
       "      <td>6.60000</td>\n",
       "    </tr>\n",
       "    <tr>\n",
       "      <th>4</th>\n",
       "      <td>2001-01-01</td>\n",
       "      <td>247.82000</td>\n",
       "      <td>4.20000</td>\n",
       "      <td>4.07648</td>\n",
       "      <td>5.41000</td>\n",
       "    </tr>\n",
       "  </tbody>\n",
       "</table>\n",
       "</div>"
      ],
      "text/plain": [
       "        Date  House_Price_Index  Unemployment  Inflation  FF_Rate\n",
       "0 2000-01-01          230.18000       4.00000    3.85177  3.99000\n",
       "1 2000-04-01          233.93000       3.80000    2.27690  6.17000\n",
       "2 2000-07-01          238.19000       4.00000    3.43636  6.86000\n",
       "3 2000-10-01          241.84000       3.90000    2.70107  6.60000\n",
       "4 2001-01-01          247.82000       4.20000    4.07648  5.41000"
      ]
     },
     "execution_count": 27,
     "metadata": {},
     "output_type": "execute_result"
    }
   ],
   "source": [
    "df_without_sp500 = national_house_price.merge(unemployment).merge(inflation).merge(federal_funds_rate)\n",
    "df_without_sp500.head()"
   ]
  },
  {
   "cell_type": "markdown",
   "metadata": {
    "id": "ucbBFHTrtcKP"
   },
   "source": [
    "## Check correlations"
   ]
  },
  {
   "cell_type": "code",
   "execution_count": 28,
   "metadata": {
    "colab": {
     "base_uri": "https://localhost:8080/"
    },
    "id": "nzA4Xg4vtP5T",
    "outputId": "addee717-b557-4de9-93d2-7b394b69b9f5"
   },
   "outputs": [
    {
     "data": {
      "text/plain": [
       "House_Price_Index    1.00000\n",
       "SP500                0.95622\n",
       "Unemployment        -0.21496\n",
       "Inflation            0.72347\n",
       "FF_Rate              0.17527\n",
       "Name: House_Price_Index, dtype: float64"
      ]
     },
     "execution_count": 28,
     "metadata": {},
     "output_type": "execute_result"
    }
   ],
   "source": [
    "df_with_sp500.corr()['House_Price_Index']"
   ]
  },
  {
   "cell_type": "code",
   "execution_count": 29,
   "metadata": {
    "colab": {
     "base_uri": "https://localhost:8080/"
    },
    "id": "Xy1RHiUOs-hN",
    "outputId": "2dcc83f9-d752-4ef2-cfe3-73342cb665b7"
   },
   "outputs": [
    {
     "data": {
      "text/plain": [
       "House_Price_Index    1.00000\n",
       "Unemployment        -0.19083\n",
       "Inflation            0.48871\n",
       "FF_Rate             -0.25975\n",
       "Name: House_Price_Index, dtype: float64"
      ]
     },
     "execution_count": 29,
     "metadata": {},
     "output_type": "execute_result"
    }
   ],
   "source": [
    "df_without_sp500.corr()['House_Price_Index']"
   ]
  },
  {
   "cell_type": "markdown",
   "metadata": {
    "id": "U8kuUkJI424z"
   },
   "source": [
    "## Export Data"
   ]
  },
  {
   "cell_type": "code",
   "execution_count": 30,
   "metadata": {
    "colab": {
     "base_uri": "https://localhost:8080/",
     "height": 17
    },
    "id": "0TT0hG7ojL6b",
    "outputId": "01b461f5-d966-4a62-fdff-fb73c498f2e5"
   },
   "outputs": [],
   "source": [
    "df_with_sp500.to_excel('df_with_sp500_jupyter.xlsx', index=False)"
   ]
  },
  {
   "cell_type": "code",
   "execution_count": 31,
   "metadata": {
    "colab": {
     "base_uri": "https://localhost:8080/",
     "height": 17
    },
    "id": "QJ3E3YWT5Dh6",
    "outputId": "3949d926-c657-499e-8827-c239cc533332"
   },
   "outputs": [],
   "source": [
    "df_with_sp500_norm.to_excel('df_with_sp500_normalized_jupyter.xlsx', index=False)"
   ]
  },
  {
   "cell_type": "code",
   "execution_count": 32,
   "metadata": {
    "colab": {
     "base_uri": "https://localhost:8080/",
     "height": 17
    },
    "id": "XK0gBcz1jXvi",
    "outputId": "f997d9bd-f103-4273-c6d0-0cdd548fcc07"
   },
   "outputs": [],
   "source": [
    "df_without_sp500.to_excel('df_without_sp500_jupyter.xlsx', index=False)"
   ]
  },
  {
   "cell_type": "code",
   "execution_count": 33,
   "metadata": {
    "colab": {
     "base_uri": "https://localhost:8080/",
     "height": 17
    },
    "id": "lzH0aS5_HcxH",
    "outputId": "2b33b3da-4aba-4819-d4f8-dc8a279f70d3"
   },
   "outputs": [],
   "source": [
    "df_without_sp500_norm.to_excel('df_without_sp500_normalized_jupyter.xlsx', index=False)"
   ]
  },
  {
   "cell_type": "markdown",
   "metadata": {
    "id": "l7LbACEQ3CsF"
   },
   "source": [
    "## Graphics "
   ]
  },
  {
   "cell_type": "code",
   "execution_count": 34,
   "metadata": {
    "colab": {
     "base_uri": "https://localhost:8080/",
     "height": 518
    },
    "id": "9lXYKU3QIw7m",
    "outputId": "c53b500c-6e56-49f0-a894-07ded52d55ca"
   },
   "outputs": [
    {
     "data": {
      "image/png": "[encoded data removed]",
      "text/plain": [
       "<Figure size 1440x576 with 1 Axes>"
      ]
     },
     "metadata": {},
     "output_type": "display_data"
    }
   ],
   "source": [
    "grp_df_with_sp500_norm = df_with_sp500_norm.plot(figsize=(20,8), x='Date')\n",
    "grp_df_with_sp500_norm.set_title(\"Index Comparison\", fontsize=16)\n",
    "grp_df_with_sp500_norm.set_xlabel(\"Year\", fontsize=12)\n",
    "grp_df_with_sp500_norm.set_ylabel(\"Index\", fontsize=12)\n",
    "plt.legend(loc=\"upper left\");"
   ]
  },
  {
   "cell_type": "code",
   "execution_count": 35,
   "metadata": {
    "colab": {
     "base_uri": "https://localhost:8080/",
     "height": 518
    },
    "id": "S19rS4t3HkFk",
    "outputId": "9be1c50a-2a41-442d-95e4-5a71407e2c00"
   },
   "outputs": [
    {
     "data": {
      "image/png": "[encoded data removed]",
      "text/plain": [
       "<Figure size 1440x576 with 1 Axes>"
      ]
     },
     "metadata": {},
     "output_type": "display_data"
    }
   ],
   "source": [
    "grp_df_without_sp500_norm = df_without_sp500_norm.plot(figsize=(20,8), x='Date')\n",
    "grp_df_without_sp500_norm.set_title(\"Index Comparison\", fontsize=16)\n",
    "grp_df_without_sp500_norm.set_xlabel(\"Year\", fontsize=12)\n",
    "grp_df_without_sp500_norm.set_ylabel(\"Index\", fontsize=12)\n",
    "plt.legend(loc=\"upper left\");"
   ]
  }
 ],
 "metadata": {
  "colab": {
   "provenance": []
  },
  "kernelspec": {
   "display_name": "Python 3 (ipykernel)",
   "language": "python",
   "name": "python3"
  },
  "language_info": {
   "codemirror_mode": {
    "name": "ipython",
    "version": 3
   },
   "file_extension": ".py",
   "mimetype": "text/x-python",
   "name": "python",
   "nbconvert_exporter": "python",
   "pygments_lexer": "ipython3",
   "version": "3.9.12"
  },
  "toc": {
   "base_numbering": 1,
   "nav_menu": {},
   "number_sections": true,
   "sideBar": true,
   "skip_h1_title": false,
   "title_cell": "Table of Contents",
   "title_sidebar": "Contents",
   "toc_cell": false,
   "toc_position": {},
   "toc_section_display": true,
   "toc_window_display": false
  },
  "varInspector": {
   "cols": {
    "lenName": 16,
    "lenType": 16,
    "lenVar": 40
   },
   "kernels_config": {
    "python": {
     "delete_cmd_postfix": "",
     "delete_cmd_prefix": "del ",
     "library": "var_list.py",
     "varRefreshCmd": "print(var_dic_list())"
    },
    "r": {
     "delete_cmd_postfix": ") ",
     "delete_cmd_prefix": "rm(",
     "library": "var_list.r",
     "varRefreshCmd": "cat(var_dic_list()) "
    }
   },
   "types_to_exclude": [
    "module",
    "function",
    "builtin_function_or_method",
    "instance",
    "_Feature"
   ],
   "window_display": false
  }
 },
 "nbformat": 4,
 "nbformat_minor": 1
}
